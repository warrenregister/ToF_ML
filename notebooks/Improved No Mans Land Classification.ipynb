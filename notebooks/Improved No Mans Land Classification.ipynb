{
 "cells": [
  {
   "cell_type": "code",
   "execution_count": 1,
   "metadata": {},
   "outputs": [],
   "source": [
    "import pandas as pd\n",
    "import numpy as np\n",
    "import matplotlib.pyplot as plt\n",
    "import seaborn as sns\n",
    "from sys import path\n",
    "%matplotlib inline"
   ]
  },
  {
   "cell_type": "code",
   "execution_count": 2,
   "metadata": {},
   "outputs": [],
   "source": [
    "path.insert(0, '../src')\n",
    "from setup import data_setup\n",
    "from data_generator import DataGenerator\n",
    "from model_trainer import ModelTrainer"
   ]
  },
  {
   "cell_type": "code",
   "execution_count": 3,
   "metadata": {},
   "outputs": [],
   "source": [
    "dg = data_setup()\n",
    "norm_data = dg.df()"
   ]
  },
  {
   "cell_type": "code",
   "execution_count": 4,
   "metadata": {},
   "outputs": [],
   "source": [
    "from data_transformation import get_isotope_data\n",
    "isotope_data = get_isotope_data()"
   ]
  },
  {
   "cell_type": "code",
   "execution_count": 18,
   "metadata": {},
   "outputs": [],
   "source": [
    "from data_transformation import get_suspicious_peaks, get_ranges, get_peak_suspiciousness\n",
    "original_data = dg.calibrated_df(True, .005, .01,use_ranges=True, ranges=[0.25, 0.5, 0.75], cat=True)\n",
    "ranges = get_ranges(isotope_data, 2000)\n",
    "original_data['target'] = original_data['target'].apply(lambda a: a - 1 if a > 0 else a)\n",
    "original_data['sus_peaks'] = original_data['masses'].apply(get_suspicious_peaks, args=(ranges, .1))\n",
    "original_data['peak_sussness'] = original_data['masses'].apply(get_peak_suspiciousness, args=(ranges, True))"
   ]
  },
  {
   "cell_type": "code",
   "execution_count": 28,
   "metadata": {},
   "outputs": [
    {
     "data": {
      "text/html": [
       "<div>\n",
       "<style scoped>\n",
       "    .dataframe tbody tr th:only-of-type {\n",
       "        vertical-align: middle;\n",
       "    }\n",
       "\n",
       "    .dataframe tbody tr th {\n",
       "        vertical-align: top;\n",
       "    }\n",
       "\n",
       "    .dataframe thead th {\n",
       "        text-align: right;\n",
       "    }\n",
       "</style>\n",
       "<table border=\"1\" class=\"dataframe\">\n",
       "  <thead>\n",
       "    <tr style=\"text-align: right;\">\n",
       "      <th></th>\n",
       "      <th>Mass/Time</th>\n",
       "      <th>MassOffset</th>\n",
       "      <th>StartFlightTime</th>\n",
       "      <th>SpecBinSize</th>\n",
       "      <th>target</th>\n",
       "      <th>err_prop_slope</th>\n",
       "      <th>err_prop_offset</th>\n",
       "      <th>num_sus_peaks</th>\n",
       "      <th>susness</th>\n",
       "    </tr>\n",
       "  </thead>\n",
       "  <tbody>\n",
       "    <tr>\n",
       "      <td>count</td>\n",
       "      <td>433.000000</td>\n",
       "      <td>433.000000</td>\n",
       "      <td>433.000000</td>\n",
       "      <td>433.000000</td>\n",
       "      <td>433.0</td>\n",
       "      <td>433.000000</td>\n",
       "      <td>433.000000</td>\n",
       "      <td>433.000000</td>\n",
       "      <td>433.000000</td>\n",
       "    </tr>\n",
       "    <tr>\n",
       "      <td>mean</td>\n",
       "      <td>0.322896</td>\n",
       "      <td>-0.230184</td>\n",
       "      <td>2.845095</td>\n",
       "      <td>1.145092</td>\n",
       "      <td>1.0</td>\n",
       "      <td>0.000193</td>\n",
       "      <td>0.000079</td>\n",
       "      <td>158.792148</td>\n",
       "      <td>0.200009</td>\n",
       "    </tr>\n",
       "    <tr>\n",
       "      <td>std</td>\n",
       "      <td>0.092866</td>\n",
       "      <td>0.300712</td>\n",
       "      <td>4.924654</td>\n",
       "      <td>2.186295</td>\n",
       "      <td>0.0</td>\n",
       "      <td>0.002869</td>\n",
       "      <td>0.002106</td>\n",
       "      <td>149.032228</td>\n",
       "      <td>0.071486</td>\n",
       "    </tr>\n",
       "    <tr>\n",
       "      <td>min</td>\n",
       "      <td>0.169103</td>\n",
       "      <td>-1.183342</td>\n",
       "      <td>0.000000</td>\n",
       "      <td>0.138000</td>\n",
       "      <td>1.0</td>\n",
       "      <td>-0.004999</td>\n",
       "      <td>-0.004955</td>\n",
       "      <td>0.000000</td>\n",
       "      <td>-0.030743</td>\n",
       "    </tr>\n",
       "    <tr>\n",
       "      <td>25%</td>\n",
       "      <td>0.172823</td>\n",
       "      <td>-0.512984</td>\n",
       "      <td>0.000000</td>\n",
       "      <td>0.138000</td>\n",
       "      <td>1.0</td>\n",
       "      <td>-0.002355</td>\n",
       "      <td>0.000000</td>\n",
       "      <td>49.000000</td>\n",
       "      <td>0.176124</td>\n",
       "    </tr>\n",
       "    <tr>\n",
       "      <td>50%</td>\n",
       "      <td>0.378008</td>\n",
       "      <td>-0.000189</td>\n",
       "      <td>0.000000</td>\n",
       "      <td>0.138000</td>\n",
       "      <td>1.0</td>\n",
       "      <td>0.000289</td>\n",
       "      <td>0.000000</td>\n",
       "      <td>114.000000</td>\n",
       "      <td>0.227709</td>\n",
       "    </tr>\n",
       "    <tr>\n",
       "      <td>75%</td>\n",
       "      <td>0.380277</td>\n",
       "      <td>-0.000015</td>\n",
       "      <td>5.626000</td>\n",
       "      <td>1.250000</td>\n",
       "      <td>1.0</td>\n",
       "      <td>0.002746</td>\n",
       "      <td>0.000334</td>\n",
       "      <td>221.000000</td>\n",
       "      <td>0.243924</td>\n",
       "    </tr>\n",
       "    <tr>\n",
       "      <td>max</td>\n",
       "      <td>0.466051</td>\n",
       "      <td>0.000638</td>\n",
       "      <td>21.352000</td>\n",
       "      <td>20.000000</td>\n",
       "      <td>1.0</td>\n",
       "      <td>0.004967</td>\n",
       "      <td>0.004976</td>\n",
       "      <td>915.000000</td>\n",
       "      <td>0.308494</td>\n",
       "    </tr>\n",
       "  </tbody>\n",
       "</table>\n",
       "</div>"
      ],
      "text/plain": [
       "        Mass/Time  MassOffset  StartFlightTime  SpecBinSize  target  \\\n",
       "count  433.000000  433.000000       433.000000   433.000000   433.0   \n",
       "mean     0.322896   -0.230184         2.845095     1.145092     1.0   \n",
       "std      0.092866    0.300712         4.924654     2.186295     0.0   \n",
       "min      0.169103   -1.183342         0.000000     0.138000     1.0   \n",
       "25%      0.172823   -0.512984         0.000000     0.138000     1.0   \n",
       "50%      0.378008   -0.000189         0.000000     0.138000     1.0   \n",
       "75%      0.380277   -0.000015         5.626000     1.250000     1.0   \n",
       "max      0.466051    0.000638        21.352000    20.000000     1.0   \n",
       "\n",
       "       err_prop_slope  err_prop_offset  num_sus_peaks     susness  \n",
       "count      433.000000       433.000000     433.000000  433.000000  \n",
       "mean         0.000193         0.000079     158.792148    0.200009  \n",
       "std          0.002869         0.002106     149.032228    0.071486  \n",
       "min         -0.004999        -0.004955       0.000000   -0.030743  \n",
       "25%         -0.002355         0.000000      49.000000    0.176124  \n",
       "50%          0.000289         0.000000     114.000000    0.227709  \n",
       "75%          0.002746         0.000334     221.000000    0.243924  \n",
       "max          0.004967         0.004976     915.000000    0.308494  "
      ]
     },
     "execution_count": 28,
     "metadata": {},
     "output_type": "execute_result"
    }
   ],
   "source": [
    "original_data['num_sus_peaks'] = original_data['sus_peaks'].apply(len)\n",
    "original_data[original_data['target'] == 1].describe()"
   ]
  },
  {
   "cell_type": "code",
   "execution_count": 27,
   "metadata": {},
   "outputs": [
    {
     "data": {
      "text/html": [
       "<div>\n",
       "<style scoped>\n",
       "    .dataframe tbody tr th:only-of-type {\n",
       "        vertical-align: middle;\n",
       "    }\n",
       "\n",
       "    .dataframe tbody tr th {\n",
       "        vertical-align: top;\n",
       "    }\n",
       "\n",
       "    .dataframe thead th {\n",
       "        text-align: right;\n",
       "    }\n",
       "</style>\n",
       "<table border=\"1\" class=\"dataframe\">\n",
       "  <thead>\n",
       "    <tr style=\"text-align: right;\">\n",
       "      <th></th>\n",
       "      <th>Mass/Time</th>\n",
       "      <th>MassOffset</th>\n",
       "      <th>StartFlightTime</th>\n",
       "      <th>SpecBinSize</th>\n",
       "      <th>target</th>\n",
       "      <th>err_prop_slope</th>\n",
       "      <th>err_prop_offset</th>\n",
       "      <th>num_sus_peaks</th>\n",
       "      <th>susness</th>\n",
       "    </tr>\n",
       "  </thead>\n",
       "  <tbody>\n",
       "    <tr>\n",
       "      <td>count</td>\n",
       "      <td>473.000000</td>\n",
       "      <td>473.000000</td>\n",
       "      <td>473.000000</td>\n",
       "      <td>473.000000</td>\n",
       "      <td>473.0</td>\n",
       "      <td>473.0</td>\n",
       "      <td>473.000000</td>\n",
       "      <td>473.000000</td>\n",
       "      <td>473.000000</td>\n",
       "    </tr>\n",
       "    <tr>\n",
       "      <td>mean</td>\n",
       "      <td>0.314966</td>\n",
       "      <td>-0.234184</td>\n",
       "      <td>3.419463</td>\n",
       "      <td>1.278497</td>\n",
       "      <td>0.0</td>\n",
       "      <td>0.0</td>\n",
       "      <td>-0.000030</td>\n",
       "      <td>78.048626</td>\n",
       "      <td>0.068121</td>\n",
       "    </tr>\n",
       "    <tr>\n",
       "      <td>std</td>\n",
       "      <td>0.097313</td>\n",
       "      <td>0.285822</td>\n",
       "      <td>5.622221</td>\n",
       "      <td>2.610802</td>\n",
       "      <td>0.0</td>\n",
       "      <td>0.0</td>\n",
       "      <td>0.002076</td>\n",
       "      <td>129.138146</td>\n",
       "      <td>0.057606</td>\n",
       "    </tr>\n",
       "    <tr>\n",
       "      <td>min</td>\n",
       "      <td>0.168588</td>\n",
       "      <td>-1.193615</td>\n",
       "      <td>-0.929000</td>\n",
       "      <td>0.138000</td>\n",
       "      <td>0.0</td>\n",
       "      <td>0.0</td>\n",
       "      <td>-0.004936</td>\n",
       "      <td>0.000000</td>\n",
       "      <td>-0.026244</td>\n",
       "    </tr>\n",
       "    <tr>\n",
       "      <td>25%</td>\n",
       "      <td>0.172205</td>\n",
       "      <td>-0.511926</td>\n",
       "      <td>0.000000</td>\n",
       "      <td>0.138000</td>\n",
       "      <td>0.0</td>\n",
       "      <td>0.0</td>\n",
       "      <td>-0.000105</td>\n",
       "      <td>7.000000</td>\n",
       "      <td>0.026113</td>\n",
       "    </tr>\n",
       "    <tr>\n",
       "      <td>50%</td>\n",
       "      <td>0.378689</td>\n",
       "      <td>-0.000290</td>\n",
       "      <td>0.000000</td>\n",
       "      <td>0.138000</td>\n",
       "      <td>0.0</td>\n",
       "      <td>0.0</td>\n",
       "      <td>0.000000</td>\n",
       "      <td>29.000000</td>\n",
       "      <td>0.050224</td>\n",
       "    </tr>\n",
       "    <tr>\n",
       "      <td>75%</td>\n",
       "      <td>0.379341</td>\n",
       "      <td>-0.000020</td>\n",
       "      <td>7.137000</td>\n",
       "      <td>1.250000</td>\n",
       "      <td>0.0</td>\n",
       "      <td>0.0</td>\n",
       "      <td>0.000297</td>\n",
       "      <td>88.000000</td>\n",
       "      <td>0.098455</td>\n",
       "    </tr>\n",
       "    <tr>\n",
       "      <td>max</td>\n",
       "      <td>0.463311</td>\n",
       "      <td>0.001708</td>\n",
       "      <td>21.571000</td>\n",
       "      <td>20.000000</td>\n",
       "      <td>0.0</td>\n",
       "      <td>0.0</td>\n",
       "      <td>0.004862</td>\n",
       "      <td>1008.000000</td>\n",
       "      <td>0.269278</td>\n",
       "    </tr>\n",
       "  </tbody>\n",
       "</table>\n",
       "</div>"
      ],
      "text/plain": [
       "        Mass/Time  MassOffset  StartFlightTime  SpecBinSize  target  \\\n",
       "count  473.000000  473.000000       473.000000   473.000000   473.0   \n",
       "mean     0.314966   -0.234184         3.419463     1.278497     0.0   \n",
       "std      0.097313    0.285822         5.622221     2.610802     0.0   \n",
       "min      0.168588   -1.193615        -0.929000     0.138000     0.0   \n",
       "25%      0.172205   -0.511926         0.000000     0.138000     0.0   \n",
       "50%      0.378689   -0.000290         0.000000     0.138000     0.0   \n",
       "75%      0.379341   -0.000020         7.137000     1.250000     0.0   \n",
       "max      0.463311    0.001708        21.571000    20.000000     0.0   \n",
       "\n",
       "       err_prop_slope  err_prop_offset  num_sus_peaks     susness  \n",
       "count           473.0       473.000000     473.000000  473.000000  \n",
       "mean              0.0        -0.000030      78.048626    0.068121  \n",
       "std               0.0         0.002076     129.138146    0.057606  \n",
       "min               0.0        -0.004936       0.000000   -0.026244  \n",
       "25%               0.0        -0.000105       7.000000    0.026113  \n",
       "50%               0.0         0.000000      29.000000    0.050224  \n",
       "75%               0.0         0.000297      88.000000    0.098455  \n",
       "max               0.0         0.004862    1008.000000    0.269278  "
      ]
     },
     "execution_count": 27,
     "metadata": {},
     "output_type": "execute_result"
    }
   ],
   "source": [
    "original_data[original_data['target'] == 0].describe()"
   ]
  },
  {
   "cell_type": "code",
   "execution_count": 26,
   "metadata": {},
   "outputs": [],
   "source": [
    "original_data['susness'] = original_data['peak_sussness'].apply(np.mean)"
   ]
  },
  {
   "cell_type": "code",
   "execution_count": 48,
   "metadata": {},
   "outputs": [],
   "source": [
    "training_data = original_data[original_data['num_sus_peaks'] >= 15].copy()[['peak_sussness', 'num_sus_peaks', 'susness','target']]"
   ]
  },
  {
   "cell_type": "code",
   "execution_count": 43,
   "metadata": {},
   "outputs": [],
   "source": [
    "def get_n_sussest(susses, n=20):\n",
    "    a = sorted(susses, reverse=True)\n",
    "    return susses[0:n]"
   ]
  },
  {
   "cell_type": "code",
   "execution_count": 49,
   "metadata": {},
   "outputs": [],
   "source": [
    "X = np.vstack(training_data['peak_sussness'].apply(get_n_sussest, args=(15,)))\n",
    "X = np.hstack([X, np.array(training_data[['num_sus_peaks', 'susness']]).reshape(X.shape[0], 2)])\n",
    "y = np.array(training_data['target'])"
   ]
  },
  {
   "cell_type": "code",
   "execution_count": 50,
   "metadata": {},
   "outputs": [],
   "source": [
    "from model_trainer import ModelTrainer\n",
    "from sklearn.ensemble import RandomForestClassifier\n",
    "from lightgbm import LGBMClassifier\n",
    "from xgboost import XGBClassifier\n",
    "models = [RandomForestClassifier, LGBMClassifier, XGBClassifier]\n",
    "names = ['rfc', 'lgbm', 'xgb']\n",
    "mt = ModelTrainer(models, X, y, names)"
   ]
  },
  {
   "cell_type": "code",
   "execution_count": 51,
   "metadata": {},
   "outputs": [
    {
     "data": {
      "text/plain": [
       "[0.8774997393389636, 0.9092169742466896, 0.8977166093212388]"
      ]
     },
     "execution_count": 51,
     "metadata": {},
     "output_type": "execute_result"
    }
   ],
   "source": [
    "accs, indices_preds = mt.kfold_models(5, model_params=[{'n_estimators': 10}, {}, {}])\n",
    "accs"
   ]
  },
  {
   "cell_type": "code",
   "execution_count": 72,
   "metadata": {},
   "outputs": [
    {
     "data": {
      "text/plain": [
       "Text(0, 0.5, 'Accuracy')"
      ]
     },
     "execution_count": 72,
     "metadata": {},
     "output_type": "execute_result"
    },
    {
     "data": {
      "image/png": "[encoded data removed]",
      "text/plain": [
       "<Figure size 792x576 with 1 Axes>"
      ]
     },
     "metadata": {},
     "output_type": "display_data"
    }
   ],
   "source": [
    "x = [0.8774997393389636, 0.9092169742466896, 0.8977166093212388, 0.97, 0.99]\n",
    "names = ['RFC*', 'XGB*', 'LGBM*', 'FFNN', 'LeNet']\n",
    "plt.figure(figsize=(11, 8))\n",
    "sns.set(style='whitegrid')\n",
    "sns.barplot(y=x, x=names)\n",
    "plt.title('Slope Error Classification Accuracies')\n",
    "plt.xlabel('Model Type, * = simplified data')\n",
    "plt.ylabel('Accuracy')\n"
   ]
  },
  {
   "cell_type": "code",
   "execution_count": null,
   "metadata": {},
   "outputs": [],
   "source": []
  }
 ],
 "metadata": {
  "kernelspec": {
   "display_name": "Python 3",
   "language": "python",
   "name": "python3"
  },
  "language_info": {
   "codemirror_mode": {
    "name": "ipython",
    "version": 3
   },
   "file_extension": ".py",
   "mimetype": "text/x-python",
   "name": "python",
   "nbconvert_exporter": "python",
   "pygments_lexer": "ipython3",
   "version": "3.7.4"
  }
 },
 "nbformat": 4,
 "nbformat_minor": 2
}
