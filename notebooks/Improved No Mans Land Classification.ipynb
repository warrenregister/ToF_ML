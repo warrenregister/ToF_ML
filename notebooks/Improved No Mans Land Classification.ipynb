{
 "cells": [
  {
   "cell_type": "code",
   "execution_count": 1,
   "metadata": {},
   "outputs": [],
   "source": [
    "import pandas as pd\n",
    "import numpy as np\n",
    "import matplotlib.pyplot as plt\n",
    "import seaborn as sns\n",
    "from sys import path\n",
    "%matplotlib inline"
   ]
  },
  {
   "cell_type": "code",
   "execution_count": 2,
   "metadata": {},
   "outputs": [],
   "source": [
    "path.insert(0, '../src')\n",
    "from setup import data_setup\n",
    "from data_generator import DataGenerator\n",
    "from model_trainer import ModelTrainer"
   ]
  },
  {
   "cell_type": "code",
   "execution_count": 3,
   "metadata": {},
   "outputs": [],
   "source": [
    "dg = data_setup()\n",
    "norm_data = dg.df()"
   ]
  },
  {
   "cell_type": "code",
   "execution_count": 6,
   "metadata": {},
   "outputs": [],
   "source": [
    "from data_transformation import get_isotope_data, get_isotope_mass_list\n",
    "isotope_data = get_isotope_data()\n",
    "nom_masses_low = get_isotope_mass_list(isotope_data, False)\n",
    "nom_masses_high = get_isotope_mass_list(isotope_data, True)"
   ]
  },
  {
   "cell_type": "code",
   "execution_count": 66,
   "metadata": {},
   "outputs": [],
   "source": [
    "from data_transformation import get_suspicious_peaks, get_ranges, get_peak_suspiciousness\n",
    "original_data = dg.calibrated_df(True, .005, .01,use_ranges=True, ranges=[0.25, 0.5, 0.75], cat=True)\n",
    "ranges = get_ranges(isotope_data, 2000)\n",
    "original_data['target'] = original_data['target'].apply(lambda a: a - 1 if a > 0 else a)\n",
    "original_data['sus_peaks'] = original_data['masses'].apply(get_suspicious_peaks, args=(ranges, -1))\n",
    "original_data['peak_sussness'] = original_data['masses'].apply(get_peak_suspiciousness, args=(ranges, True))"
   ]
  },
  {
   "cell_type": "code",
   "execution_count": 68,
   "metadata": {},
   "outputs": [],
   "source": [
    "original_data['num_sus_peaks'] = original_data['sus_peaks'].apply(len)"
   ]
  },
  {
   "cell_type": "code",
   "execution_count": 69,
   "metadata": {},
   "outputs": [],
   "source": [
    "training_data = original_data[original_data['num_sus_peaks'] >= 20].copy()[['peak_sussness', 'num_sus_peaks', 'target']]"
   ]
  },
  {
   "cell_type": "code",
   "execution_count": 70,
   "metadata": {},
   "outputs": [],
   "source": [
    "def get_20_sussest(susses):\n",
    "    a = sorted(susses, reverse=True)\n",
    "    return susses[0:20]"
   ]
  },
  {
   "cell_type": "code",
   "execution_count": 78,
   "metadata": {},
   "outputs": [],
   "source": [
    "X = np.vstack(training_data['peak_sussness'].apply(get_20_sussest))\n",
    "X = np.hstack([X, np.array(training_data['num_sus_peaks']).reshape(X.shape[0], 1)])\n",
    "y = np.array(training_data['target'])"
   ]
  },
  {
   "cell_type": "code",
   "execution_count": 80,
   "metadata": {},
   "outputs": [],
   "source": [
    "from model_trainer import ModelTrainer\n",
    "from sklearn.ensemble import RandomForestClassifier\n",
    "from lightgbm import LGBMClassifier\n",
    "from xgboost import XGBClassifier\n",
    "models = [RandomForestClassifier, LGBMClassifier, XGBClassifier]\n",
    "names = ['rfc', 'lgbm', 'xgb']\n",
    "mt = ModelTrainer(models, X, y, names)"
   ]
  },
  {
   "cell_type": "code",
   "execution_count": 81,
   "metadata": {},
   "outputs": [
    {
     "data": {
      "text/plain": [
       "[0.8522821049958738, 0.8725385640830319, 0.8703040690662096]"
      ]
     },
     "execution_count": 81,
     "metadata": {},
     "output_type": "execute_result"
    }
   ],
   "source": [
    "accs, indices_preds = mt.kfold_models(5, model_params=[{'n_estimators': 10}, {}, {}])\n",
    "accs"
   ]
  }
 ],
 "metadata": {
  "kernelspec": {
   "display_name": "Python 3",
   "language": "python",
   "name": "python3"
  },
  "language_info": {
   "codemirror_mode": {
    "name": "ipython",
    "version": 3
   },
   "file_extension": ".py",
   "mimetype": "text/x-python",
   "name": "python",
   "nbconvert_exporter": "python",
   "pygments_lexer": "ipython3",
   "version": "3.7.4"
  }
 },
 "nbformat": 4,
 "nbformat_minor": 2
}
