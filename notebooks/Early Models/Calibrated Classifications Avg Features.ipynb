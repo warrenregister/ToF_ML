{
 "cells": [
  {
   "cell_type": "code",
   "execution_count": 1,
   "metadata": {},
   "outputs": [],
   "source": [
    "import pandas as pd\n",
    "import numpy as np\n",
    "import matplotlib.pyplot as plt\n",
    "import seaborn as sns\n",
    "from sys import path\n",
    "%matplotlib inline"
   ]
  },
  {
   "cell_type": "code",
   "execution_count": 2,
   "metadata": {},
   "outputs": [],
   "source": [
    "path.insert(0, '../src')\n",
    "from data_generator import DataGenerator"
   ]
  },
  {
   "cell_type": "code",
   "execution_count": 2,
   "metadata": {},
   "outputs": [],
   "source": [
    "dg = DataGenerator('./data/classification_cas_data.csv')\n",
    "err_data = dg.calibrated_df(error=True, low_proportion=.005, high_proportion=.01)\n",
    "err_data['peak_num'] = err_data['peaks'].apply(len)\n",
    "err_data = err_data[err_data['peak_num'] >= 20].copy()\n",
    "err_data.reset_index(inplace=True, drop=True)"
   ]
  },
  {
   "cell_type": "code",
   "execution_count": 3,
   "metadata": {},
   "outputs": [],
   "source": [
    "avg_dists = []\n",
    "avg_dists_beg = []\n",
    "avg_dists_end = []\n",
    "for peaks in err_data['masses']:\n",
    "    avg_dist = 0\n",
    "    avg_dist_b = 0\n",
    "    avg_dist_e = 0\n",
    "    for i, peak in enumerate(peaks):\n",
    "        dist = abs(peak - round(peak))\n",
    "        if i < len(peaks) // 2:\n",
    "            avg_dist_b += dist\n",
    "        else:\n",
    "            avg_dist_e += dist\n",
    "        avg_dist += dist\n",
    "    avg_dists.append(avg_dist / len(peaks))\n",
    "    avg_dists_beg.append(avg_dist_b / (len(peaks) // 2))\n",
    "    avg_dists_end.append(avg_dist_e / (len(peaks) - len(peaks) // 2))"
   ]
  },
  {
   "cell_type": "code",
   "execution_count": 4,
   "metadata": {},
   "outputs": [],
   "source": [
    "err_data['avg_dist_whole_num'] = avg_dists\n",
    "err_data['avg_dist_beg'] = avg_dists_beg\n",
    "err_data['avg_dist_end'] = avg_dists_end"
   ]
  },
  {
   "cell_type": "code",
   "execution_count": 5,
   "metadata": {},
   "outputs": [
    {
     "data": {
      "text/html": [
       "<div>\n",
       "<style scoped>\n",
       "    .dataframe tbody tr th:only-of-type {\n",
       "        vertical-align: middle;\n",
       "    }\n",
       "\n",
       "    .dataframe tbody tr th {\n",
       "        vertical-align: top;\n",
       "    }\n",
       "\n",
       "    .dataframe thead th {\n",
       "        text-align: right;\n",
       "    }\n",
       "</style>\n",
       "<table border=\"1\" class=\"dataframe\">\n",
       "  <thead>\n",
       "    <tr style=\"text-align: right;\">\n",
       "      <th></th>\n",
       "      <th>Mass/Time</th>\n",
       "      <th>MassOffset</th>\n",
       "      <th>file_name</th>\n",
       "      <th>StartFlightTime</th>\n",
       "      <th>SpecBinSize</th>\n",
       "      <th>channels</th>\n",
       "      <th>target</th>\n",
       "      <th>err_prop_slope</th>\n",
       "      <th>err_prop_offset</th>\n",
       "      <th>peaks</th>\n",
       "      <th>mass_channels</th>\n",
       "      <th>masses</th>\n",
       "      <th>intensities</th>\n",
       "      <th>peak_num</th>\n",
       "      <th>avg_dist_whole_num</th>\n",
       "      <th>avg_dist_beg</th>\n",
       "      <th>avg_dist_end</th>\n",
       "    </tr>\n",
       "  </thead>\n",
       "  <tbody>\n",
       "    <tr>\n",
       "      <td>0</td>\n",
       "      <td>0.384486</td>\n",
       "      <td>-0.300591</td>\n",
       "      <td>0909402.cas</td>\n",
       "      <td>0.0</td>\n",
       "      <td>1.248</td>\n",
       "      <td>[0, 0, 0, 0, 0, 0, 0, 0, 0, 0, 0, 0, 0, 0, 0, ...</td>\n",
       "      <td>0</td>\n",
       "      <td>0.009979</td>\n",
       "      <td>-0.009999</td>\n",
       "      <td>[(7929, 6046), (8231, 16662), (8515, 1658), (8...</td>\n",
       "      <td>[7929, 8231, 8515, 8518, 8520, 8788, 8794, 879...</td>\n",
       "      <td>[12.27838438225773, 13.314937853539146, 14.328...</td>\n",
       "      <td>[6046, 16662, 1658, 1804, 1799, 53, 83, 66, 66...</td>\n",
       "      <td>38</td>\n",
       "      <td>0.335668</td>\n",
       "      <td>0.383401</td>\n",
       "      <td>0.287935</td>\n",
       "    </tr>\n",
       "  </tbody>\n",
       "</table>\n",
       "</div>"
      ],
      "text/plain": [
       "   Mass/Time  MassOffset    file_name  StartFlightTime  SpecBinSize  \\\n",
       "0   0.384486   -0.300591  0909402.cas              0.0        1.248   \n",
       "\n",
       "                                            channels  target  err_prop_slope  \\\n",
       "0  [0, 0, 0, 0, 0, 0, 0, 0, 0, 0, 0, 0, 0, 0, 0, ...       0        0.009979   \n",
       "\n",
       "   err_prop_offset                                              peaks  \\\n",
       "0        -0.009999  [(7929, 6046), (8231, 16662), (8515, 1658), (8...   \n",
       "\n",
       "                                       mass_channels  \\\n",
       "0  [7929, 8231, 8515, 8518, 8520, 8788, 8794, 879...   \n",
       "\n",
       "                                              masses  \\\n",
       "0  [12.27838438225773, 13.314937853539146, 14.328...   \n",
       "\n",
       "                                         intensities  peak_num  \\\n",
       "0  [6046, 16662, 1658, 1804, 1799, 53, 83, 66, 66...        38   \n",
       "\n",
       "   avg_dist_whole_num  avg_dist_beg  avg_dist_end  \n",
       "0            0.335668      0.383401      0.287935  "
      ]
     },
     "execution_count": 5,
     "metadata": {},
     "output_type": "execute_result"
    }
   ],
   "source": [
    "err_data[err_data['target'] == 0].head(1)"
   ]
  },
  {
   "cell_type": "code",
   "execution_count": 6,
   "metadata": {},
   "outputs": [
    {
     "data": {
      "text/html": [
       "<div>\n",
       "<style scoped>\n",
       "    .dataframe tbody tr th:only-of-type {\n",
       "        vertical-align: middle;\n",
       "    }\n",
       "\n",
       "    .dataframe tbody tr th {\n",
       "        vertical-align: top;\n",
       "    }\n",
       "\n",
       "    .dataframe thead th {\n",
       "        text-align: right;\n",
       "    }\n",
       "</style>\n",
       "<table border=\"1\" class=\"dataframe\">\n",
       "  <thead>\n",
       "    <tr style=\"text-align: right;\">\n",
       "      <th></th>\n",
       "      <th>Mass/Time</th>\n",
       "      <th>MassOffset</th>\n",
       "      <th>file_name</th>\n",
       "      <th>StartFlightTime</th>\n",
       "      <th>SpecBinSize</th>\n",
       "      <th>channels</th>\n",
       "      <th>target</th>\n",
       "      <th>err_prop_slope</th>\n",
       "      <th>err_prop_offset</th>\n",
       "      <th>peaks</th>\n",
       "      <th>mass_channels</th>\n",
       "      <th>masses</th>\n",
       "      <th>intensities</th>\n",
       "      <th>peak_num</th>\n",
       "      <th>avg_dist_whole_num</th>\n",
       "      <th>avg_dist_beg</th>\n",
       "      <th>avg_dist_end</th>\n",
       "    </tr>\n",
       "  </thead>\n",
       "  <tbody>\n",
       "    <tr>\n",
       "      <td>2</td>\n",
       "      <td>0.387569</td>\n",
       "      <td>-0.280513</td>\n",
       "      <td>1229201.cas</td>\n",
       "      <td>0.0</td>\n",
       "      <td>1.248</td>\n",
       "      <td>[0, 0, 0, 0, 0, 0, 0, 0, 0, 0, 0, 0, 0, 0, 0, ...</td>\n",
       "      <td>1</td>\n",
       "      <td>0.0</td>\n",
       "      <td>0.0</td>\n",
       "      <td>[(2643, 1502), (2645, 1577), (2647, 1550), (26...</td>\n",
       "      <td>[2643, 2645, 2647, 2654, 7728, 7730, 7733, 773...</td>\n",
       "      <td>[0.9957411158786821, 0.9976726701232416, 0.999...</td>\n",
       "      <td>[1502, 1577, 1550, 1390, 85, 92, 105, 98, 98, ...</td>\n",
       "      <td>186</td>\n",
       "      <td>0.166712</td>\n",
       "      <td>0.039488</td>\n",
       "      <td>0.293937</td>\n",
       "    </tr>\n",
       "  </tbody>\n",
       "</table>\n",
       "</div>"
      ],
      "text/plain": [
       "   Mass/Time  MassOffset    file_name  StartFlightTime  SpecBinSize  \\\n",
       "2   0.387569   -0.280513  1229201.cas              0.0        1.248   \n",
       "\n",
       "                                            channels  target  err_prop_slope  \\\n",
       "2  [0, 0, 0, 0, 0, 0, 0, 0, 0, 0, 0, 0, 0, 0, 0, ...       1             0.0   \n",
       "\n",
       "   err_prop_offset                                              peaks  \\\n",
       "2              0.0  [(2643, 1502), (2645, 1577), (2647, 1550), (26...   \n",
       "\n",
       "                                       mass_channels  \\\n",
       "2  [2643, 2645, 2647, 2654, 7728, 7730, 7733, 773...   \n",
       "\n",
       "                                              masses  \\\n",
       "2  [0.9957411158786821, 0.9976726701232416, 0.999...   \n",
       "\n",
       "                                         intensities  peak_num  \\\n",
       "2  [1502, 1577, 1550, 1390, 85, 92, 105, 98, 98, ...       186   \n",
       "\n",
       "   avg_dist_whole_num  avg_dist_beg  avg_dist_end  \n",
       "2            0.166712      0.039488      0.293937  "
      ]
     },
     "execution_count": 6,
     "metadata": {},
     "output_type": "execute_result"
    }
   ],
   "source": [
    "err_data[(err_data['target'] == 1)].head(1)"
   ]
  },
  {
   "cell_type": "code",
   "execution_count": 7,
   "metadata": {},
   "outputs": [],
   "source": [
    "from sklearn.linear_model import LogisticRegressionCV\n",
    "from sklearn.svm import SVC\n",
    "from lightgbm import LGBMClassifier\n",
    "X = err_data[['avg_dist_whole_num', 'avg_dist_beg', 'avg_dist_end']]\n",
    "y = err_data['target']"
   ]
  },
  {
   "cell_type": "code",
   "execution_count": 8,
   "metadata": {},
   "outputs": [],
   "source": [
    "from model_trainer import ModelTrainer"
   ]
  },
  {
   "cell_type": "code",
   "execution_count": 9,
   "metadata": {},
   "outputs": [],
   "source": [
    "models = [LogisticRegressionCV, SVC, LGBMClassifier]\n",
    "mt = ModelTrainer(models, X, y, ['LogRegCV', 'SVC', 'LGBM'])"
   ]
  },
  {
   "cell_type": "code",
   "execution_count": 14,
   "metadata": {},
   "outputs": [
    {
     "name": "stdout",
     "output_type": "stream",
     "text": [
      "LogRegCV: 0.9608938547486033\n",
      "SVC: 0.9441340782122905\n",
      "LGBM: 0.9608938547486033\n"
     ]
    },
    {
     "name": "stderr",
     "output_type": "stream",
     "text": [
      "/Users/warren/opt/anaconda3/lib/python3.7/site-packages/sklearn/model_selection/_split.py:1978: FutureWarning: The default value of cv will change from 3 to 5 in version 0.22. Specify it explicitly to silence this warning.\n",
      "  warnings.warn(CV_WARNING, FutureWarning)\n",
      "/Users/warren/opt/anaconda3/lib/python3.7/site-packages/sklearn/svm/base.py:193: FutureWarning: The default value of gamma will change from 'auto' to 'scale' in version 0.22 to account better for unscaled features. Set gamma explicitly to 'auto' or 'scale' to avoid this warning.\n",
      "  \"avoid this warning.\", FutureWarning)\n"
     ]
    }
   ],
   "source": [
    "accs, preds, X_test, y_test = mt.ttt_models()"
   ]
  },
  {
   "cell_type": "code",
   "execution_count": null,
   "metadata": {},
   "outputs": [],
   "source": [
    "accs2, index_preds = mt.kfold_models(5)"
   ]
  },
  {
   "cell_type": "code",
   "execution_count": 16,
   "metadata": {},
   "outputs": [
    {
     "data": {
      "text/plain": [
       "[0.9709057811813446, 0.949645345552696, 0.9652878036532546]"
      ]
     },
     "execution_count": 16,
     "metadata": {},
     "output_type": "execute_result"
    }
   ],
   "source": [
    "accs2"
   ]
  },
  {
   "cell_type": "code",
   "execution_count": 122,
   "metadata": {},
   "outputs": [],
   "source": [
    "def model_optimizer(models, names, parameters, param_names, num_seeds=15, verbose=False):\n",
    "    final = {}\n",
    "    for name in names:\n",
    "        final[name + ' accs'] = []\n",
    "        final[name + ' params'] = []\n",
    "\n",
    "    for i, model_obj in enumerate(models):\n",
    "        accs = []\n",
    "        params = []\n",
    "        for param in parameter_generator(parameters[i], param_names[i]):\n",
    "            model = model_obj(**param)\n",
    "            seed_acc = 0\n",
    "            for seed in np.random.randint(1, 900, size=num_seeds):\n",
    "                acc, _, p = get_kfold_stats(X, y, 5, seed, models=[model])\n",
    "                seed_acc += acc[0] / 15\n",
    "            accs.append(seed_acc)\n",
    "            params.append(param)\n",
    "            if verbose:\n",
    "                print(param, seed_acc)\n",
    "        final[names[i] + ' accs'].append(accs)\n",
    "        final[names[i] + ' params'].append(params)\n",
    "    return final"
   ]
  },
  {
   "cell_type": "code",
   "execution_count": 128,
   "metadata": {},
   "outputs": [],
   "source": [
    "num_leaves = [8, 15, 31]\n",
    "learning_rate = [.1, .3, .5]\n",
    "max_depth = [3]\n",
    "names = ['num_leaves', 'learning_rate', 'max_depth']\n",
    "parameters = [num_leaves, learning_rate, max_depth]"
   ]
  },
  {
   "cell_type": "code",
   "execution_count": 129,
   "metadata": {},
   "outputs": [],
   "source": [
    "from create_folds import get_kfold_stats\n",
    "results = model_optimizer([LGBMClassifier], ['LGBM'], [parameters], [names])"
   ]
  },
  {
   "cell_type": "code",
   "execution_count": 132,
   "metadata": {},
   "outputs": [],
   "source": [
    "def parameter_generator(parameters, names):\n",
    "    '''\n",
    "    Given a list of lists containing parameters, and a list of names\n",
    "    yields every combination of the parameters in the lists.\n",
    "    '''\n",
    "    indices = [0 for x in names]\n",
    "    max_vals = [len(x) for x in parameters]\n",
    "    while indices[0] < len(parameters[0]):\n",
    "        params = {}\n",
    "        for i, param in enumerate(parameters):\n",
    "            params[names[i]] = param[indices[i]]\n",
    "        indices = increment_index(indices, max_vals)\n",
    "        yield params\n",
    "            \n",
    "def increment_index(indices, max_vals):\n",
    "    '''\n",
    "    Recursively increments the indices of several lists so that\n",
    "    every combination of elements of those lists can be seen.\n",
    "    \n",
    "    Arguments -------\n",
    "    indices = list of indices for lists\n",
    "    max_vals = length of each list\n",
    "    '''\n",
    "    indices[-1] += 1\n",
    "    if indices[-1] > max_vals[-1] - 1 and len(indices) > 1:\n",
    "        indices[-1] = 0\n",
    "        indices[0:-1] = increment_index(indices[0:-1], max_vals[0:-1])\n",
    "    return indices"
   ]
  },
  {
   "cell_type": "markdown",
   "metadata": {},
   "source": [
    "+ Research mass defect formula to determine true spot peaks should be\n",
    "+ then for each nominal mass calculate distance from this value\n",
    "+ average these values for whole spectrum or for each section of spectrum to determine mass deviation\n",
    "+ then use to classifiy spectrum\n",
    "+ error lower bound probably > 0.001"
   ]
  }
 ],
 "metadata": {
  "kernelspec": {
   "display_name": "Python 3",
   "language": "python",
   "name": "python3"
  },
  "language_info": {
   "codemirror_mode": {
    "name": "ipython",
    "version": 3
   },
   "file_extension": ".py",
   "mimetype": "text/x-python",
   "name": "python",
   "nbconvert_exporter": "python",
   "pygments_lexer": "ipython3",
   "version": "3.7.4"
  }
 },
 "nbformat": 4,
 "nbformat_minor": 2
}
