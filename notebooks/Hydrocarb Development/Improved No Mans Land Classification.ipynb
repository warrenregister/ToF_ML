{
 "cells": [
  {
   "cell_type": "code",
   "execution_count": 1,
   "metadata": {},
   "outputs": [],
   "source": [
    "import pandas as pd\n",
    "import numpy as np\n",
    "import matplotlib.pyplot as plt\n",
    "import seaborn as sns\n",
    "from sys import path\n",
    "%matplotlib inline"
   ]
  },
  {
   "cell_type": "code",
   "execution_count": 2,
   "metadata": {},
   "outputs": [],
   "source": [
    "path.insert(0, '../src')\n",
    "from setup import data_setup\n",
    "from data_generator import DataGenerator\n",
    "from model_trainer import ModelTrainer"
   ]
  },
  {
   "cell_type": "code",
   "execution_count": 3,
   "metadata": {},
   "outputs": [],
   "source": [
    "dg = data_setup()\n",
    "norm_data = dg.df()"
   ]
  },
  {
   "cell_type": "code",
   "execution_count": 4,
   "metadata": {},
   "outputs": [],
   "source": [
    "from data_transformation import get_isotope_data, get_hydrocarbs\n",
    "isotope_data = get_isotope_data()"
   ]
  },
  {
   "cell_type": "code",
   "execution_count": 5,
   "metadata": {},
   "outputs": [],
   "source": [
    "from data_transformation import get_suspicious_peaks, get_ranges, get_peak_suspiciousness\n",
    "original_data = dg.calibrated_df(True, .005, .01,use_ranges=True, ranges=[0.25, 0.5, 0.75], cat=True)\n",
    "ranges = get_ranges(isotope_data,2000)\n",
    "original_data['target'] = original_data['target'].apply(lambda a: a - 1 if a > 0 else a)\n",
    "original_data['sus_peaks'] = original_data['masses'].apply(get_suspicious_peaks, args=(ranges, .1))\n",
    "original_data['peak_sussness'] = original_data['masses'].apply(get_peak_suspiciousness, args=(ranges, True))"
   ]
  },
  {
   "cell_type": "code",
   "execution_count": 6,
   "metadata": {},
   "outputs": [
    {
     "data": {
      "text/html": [
       "<div>\n",
       "<style scoped>\n",
       "    .dataframe tbody tr th:only-of-type {\n",
       "        vertical-align: middle;\n",
       "    }\n",
       "\n",
       "    .dataframe tbody tr th {\n",
       "        vertical-align: top;\n",
       "    }\n",
       "\n",
       "    .dataframe thead th {\n",
       "        text-align: right;\n",
       "    }\n",
       "</style>\n",
       "<table border=\"1\" class=\"dataframe\">\n",
       "  <thead>\n",
       "    <tr style=\"text-align: right;\">\n",
       "      <th></th>\n",
       "      <th>Mass/Time</th>\n",
       "      <th>MassOffset</th>\n",
       "      <th>StartFlightTime</th>\n",
       "      <th>SpecBinSize</th>\n",
       "      <th>target</th>\n",
       "      <th>err_prop_slope</th>\n",
       "      <th>err_prop_offset</th>\n",
       "      <th>num_sus_peaks</th>\n",
       "    </tr>\n",
       "  </thead>\n",
       "  <tbody>\n",
       "    <tr>\n",
       "      <td>count</td>\n",
       "      <td>467.000000</td>\n",
       "      <td>467.000000</td>\n",
       "      <td>467.000000</td>\n",
       "      <td>467.000000</td>\n",
       "      <td>467.0</td>\n",
       "      <td>467.000000</td>\n",
       "      <td>467.000000</td>\n",
       "      <td>467.000000</td>\n",
       "    </tr>\n",
       "    <tr>\n",
       "      <td>mean</td>\n",
       "      <td>0.317307</td>\n",
       "      <td>-0.237807</td>\n",
       "      <td>3.259349</td>\n",
       "      <td>1.416094</td>\n",
       "      <td>1.0</td>\n",
       "      <td>-0.000007</td>\n",
       "      <td>-0.000185</td>\n",
       "      <td>135.830835</td>\n",
       "    </tr>\n",
       "    <tr>\n",
       "      <td>std</td>\n",
       "      <td>0.096472</td>\n",
       "      <td>0.300777</td>\n",
       "      <td>5.452427</td>\n",
       "      <td>2.879854</td>\n",
       "      <td>0.0</td>\n",
       "      <td>0.007591</td>\n",
       "      <td>0.005361</td>\n",
       "      <td>95.656817</td>\n",
       "    </tr>\n",
       "    <tr>\n",
       "      <td>min</td>\n",
       "      <td>0.168041</td>\n",
       "      <td>-1.194138</td>\n",
       "      <td>-0.929000</td>\n",
       "      <td>0.138000</td>\n",
       "      <td>1.0</td>\n",
       "      <td>-0.009979</td>\n",
       "      <td>-0.009917</td>\n",
       "      <td>11.000000</td>\n",
       "    </tr>\n",
       "    <tr>\n",
       "      <td>25%</td>\n",
       "      <td>0.173148</td>\n",
       "      <td>-0.512371</td>\n",
       "      <td>0.000000</td>\n",
       "      <td>0.138000</td>\n",
       "      <td>1.0</td>\n",
       "      <td>-0.007363</td>\n",
       "      <td>-0.005242</td>\n",
       "      <td>65.000000</td>\n",
       "    </tr>\n",
       "    <tr>\n",
       "      <td>50%</td>\n",
       "      <td>0.376764</td>\n",
       "      <td>-0.000202</td>\n",
       "      <td>0.000000</td>\n",
       "      <td>0.138000</td>\n",
       "      <td>1.0</td>\n",
       "      <td>-0.005047</td>\n",
       "      <td>0.000000</td>\n",
       "      <td>116.000000</td>\n",
       "    </tr>\n",
       "    <tr>\n",
       "      <td>75%</td>\n",
       "      <td>0.381525</td>\n",
       "      <td>-0.000020</td>\n",
       "      <td>7.114500</td>\n",
       "      <td>1.250000</td>\n",
       "      <td>1.0</td>\n",
       "      <td>0.007424</td>\n",
       "      <td>0.000000</td>\n",
       "      <td>177.500000</td>\n",
       "    </tr>\n",
       "    <tr>\n",
       "      <td>max</td>\n",
       "      <td>0.466862</td>\n",
       "      <td>0.001710</td>\n",
       "      <td>21.434000</td>\n",
       "      <td>20.000000</td>\n",
       "      <td>1.0</td>\n",
       "      <td>0.009981</td>\n",
       "      <td>0.009954</td>\n",
       "      <td>545.000000</td>\n",
       "    </tr>\n",
       "  </tbody>\n",
       "</table>\n",
       "</div>"
      ],
      "text/plain": [
       "        Mass/Time  MassOffset  StartFlightTime  SpecBinSize  target  \\\n",
       "count  467.000000  467.000000       467.000000   467.000000   467.0   \n",
       "mean     0.317307   -0.237807         3.259349     1.416094     1.0   \n",
       "std      0.096472    0.300777         5.452427     2.879854     0.0   \n",
       "min      0.168041   -1.194138        -0.929000     0.138000     1.0   \n",
       "25%      0.173148   -0.512371         0.000000     0.138000     1.0   \n",
       "50%      0.376764   -0.000202         0.000000     0.138000     1.0   \n",
       "75%      0.381525   -0.000020         7.114500     1.250000     1.0   \n",
       "max      0.466862    0.001710        21.434000    20.000000     1.0   \n",
       "\n",
       "       err_prop_slope  err_prop_offset  num_sus_peaks  \n",
       "count      467.000000       467.000000     467.000000  \n",
       "mean        -0.000007        -0.000185     135.830835  \n",
       "std          0.007591         0.005361      95.656817  \n",
       "min         -0.009979        -0.009917      11.000000  \n",
       "25%         -0.007363        -0.005242      65.000000  \n",
       "50%         -0.005047         0.000000     116.000000  \n",
       "75%          0.007424         0.000000     177.500000  \n",
       "max          0.009981         0.009954     545.000000  "
      ]
     },
     "execution_count": 6,
     "metadata": {},
     "output_type": "execute_result"
    }
   ],
   "source": [
    "original_data['num_sus_peaks'] = original_data['sus_peaks'].apply(len)\n",
    "original_data[original_data['target'] == 1].describe()"
   ]
  },
  {
   "cell_type": "code",
   "execution_count": 7,
   "metadata": {},
   "outputs": [
    {
     "data": {
      "text/html": [
       "<div>\n",
       "<style scoped>\n",
       "    .dataframe tbody tr th:only-of-type {\n",
       "        vertical-align: middle;\n",
       "    }\n",
       "\n",
       "    .dataframe tbody tr th {\n",
       "        vertical-align: top;\n",
       "    }\n",
       "\n",
       "    .dataframe thead th {\n",
       "        text-align: right;\n",
       "    }\n",
       "</style>\n",
       "<table border=\"1\" class=\"dataframe\">\n",
       "  <thead>\n",
       "    <tr style=\"text-align: right;\">\n",
       "      <th></th>\n",
       "      <th>Mass/Time</th>\n",
       "      <th>MassOffset</th>\n",
       "      <th>StartFlightTime</th>\n",
       "      <th>SpecBinSize</th>\n",
       "      <th>target</th>\n",
       "      <th>err_prop_slope</th>\n",
       "      <th>err_prop_offset</th>\n",
       "      <th>num_sus_peaks</th>\n",
       "    </tr>\n",
       "  </thead>\n",
       "  <tbody>\n",
       "    <tr>\n",
       "      <td>count</td>\n",
       "      <td>439.000000</td>\n",
       "      <td>439.000000</td>\n",
       "      <td>439.000000</td>\n",
       "      <td>439.000000</td>\n",
       "      <td>439.0</td>\n",
       "      <td>439.0</td>\n",
       "      <td>439.000000</td>\n",
       "      <td>439.000000</td>\n",
       "    </tr>\n",
       "    <tr>\n",
       "      <td>mean</td>\n",
       "      <td>0.320245</td>\n",
       "      <td>-0.226371</td>\n",
       "      <td>3.023271</td>\n",
       "      <td>1.000542</td>\n",
       "      <td>0.0</td>\n",
       "      <td>0.0</td>\n",
       "      <td>0.000113</td>\n",
       "      <td>33.526196</td>\n",
       "    </tr>\n",
       "    <tr>\n",
       "      <td>std</td>\n",
       "      <td>0.094050</td>\n",
       "      <td>0.284518</td>\n",
       "      <td>5.147337</td>\n",
       "      <td>1.776526</td>\n",
       "      <td>0.0</td>\n",
       "      <td>0.0</td>\n",
       "      <td>0.005635</td>\n",
       "      <td>62.866523</td>\n",
       "    </tr>\n",
       "    <tr>\n",
       "      <td>min</td>\n",
       "      <td>0.168588</td>\n",
       "      <td>-1.093778</td>\n",
       "      <td>0.000000</td>\n",
       "      <td>0.138000</td>\n",
       "      <td>0.0</td>\n",
       "      <td>0.0</td>\n",
       "      <td>-0.009974</td>\n",
       "      <td>0.000000</td>\n",
       "    </tr>\n",
       "    <tr>\n",
       "      <td>25%</td>\n",
       "      <td>0.172340</td>\n",
       "      <td>-0.510942</td>\n",
       "      <td>0.000000</td>\n",
       "      <td>0.138000</td>\n",
       "      <td>0.0</td>\n",
       "      <td>0.0</td>\n",
       "      <td>-0.005263</td>\n",
       "      <td>0.000000</td>\n",
       "    </tr>\n",
       "    <tr>\n",
       "      <td>50%</td>\n",
       "      <td>0.378245</td>\n",
       "      <td>-0.000250</td>\n",
       "      <td>0.000000</td>\n",
       "      <td>0.138000</td>\n",
       "      <td>0.0</td>\n",
       "      <td>0.0</td>\n",
       "      <td>0.000000</td>\n",
       "      <td>5.000000</td>\n",
       "    </tr>\n",
       "    <tr>\n",
       "      <td>75%</td>\n",
       "      <td>0.379367</td>\n",
       "      <td>-0.000015</td>\n",
       "      <td>7.092500</td>\n",
       "      <td>1.250000</td>\n",
       "      <td>0.0</td>\n",
       "      <td>0.0</td>\n",
       "      <td>0.005536</td>\n",
       "      <td>29.000000</td>\n",
       "    </tr>\n",
       "    <tr>\n",
       "      <td>max</td>\n",
       "      <td>0.388642</td>\n",
       "      <td>0.000835</td>\n",
       "      <td>21.571000</td>\n",
       "      <td>10.000000</td>\n",
       "      <td>0.0</td>\n",
       "      <td>0.0</td>\n",
       "      <td>0.009988</td>\n",
       "      <td>388.000000</td>\n",
       "    </tr>\n",
       "  </tbody>\n",
       "</table>\n",
       "</div>"
      ],
      "text/plain": [
       "        Mass/Time  MassOffset  StartFlightTime  SpecBinSize  target  \\\n",
       "count  439.000000  439.000000       439.000000   439.000000   439.0   \n",
       "mean     0.320245   -0.226371         3.023271     1.000542     0.0   \n",
       "std      0.094050    0.284518         5.147337     1.776526     0.0   \n",
       "min      0.168588   -1.093778         0.000000     0.138000     0.0   \n",
       "25%      0.172340   -0.510942         0.000000     0.138000     0.0   \n",
       "50%      0.378245   -0.000250         0.000000     0.138000     0.0   \n",
       "75%      0.379367   -0.000015         7.092500     1.250000     0.0   \n",
       "max      0.388642    0.000835        21.571000    10.000000     0.0   \n",
       "\n",
       "       err_prop_slope  err_prop_offset  num_sus_peaks  \n",
       "count           439.0       439.000000     439.000000  \n",
       "mean              0.0         0.000113      33.526196  \n",
       "std               0.0         0.005635      62.866523  \n",
       "min               0.0        -0.009974       0.000000  \n",
       "25%               0.0        -0.005263       0.000000  \n",
       "50%               0.0         0.000000       5.000000  \n",
       "75%               0.0         0.005536      29.000000  \n",
       "max               0.0         0.009988     388.000000  "
      ]
     },
     "execution_count": 7,
     "metadata": {},
     "output_type": "execute_result"
    }
   ],
   "source": [
    "original_data[original_data['target'] == 0].describe()"
   ]
  },
  {
   "cell_type": "code",
   "execution_count": 8,
   "metadata": {},
   "outputs": [],
   "source": [
    "original_data['susness'] = original_data['peak_sussness'].apply(np.mean)"
   ]
  },
  {
   "cell_type": "code",
   "execution_count": 9,
   "metadata": {},
   "outputs": [],
   "source": [
    "training_data = original_data[original_data['num_sus_peaks'] >= 15].copy()[['peak_sussness', 'num_sus_peaks', 'susness','target']]"
   ]
  },
  {
   "cell_type": "code",
   "execution_count": 10,
   "metadata": {},
   "outputs": [],
   "source": [
    "def get_n_sussest(susses, n=20):\n",
    "    a = sorted(susses, reverse=True)\n",
    "    return susses[0:n]"
   ]
  },
  {
   "cell_type": "code",
   "execution_count": 11,
   "metadata": {},
   "outputs": [],
   "source": [
    "X = np.vstack(training_data['peak_sussness'].apply(get_n_sussest, args=(15,)))\n",
    "X = np.hstack([X, np.array(training_data[['num_sus_peaks', 'susness']]).reshape(X.shape[0], 2)])\n",
    "y = np.array(training_data['target'])"
   ]
  },
  {
   "cell_type": "code",
   "execution_count": 12,
   "metadata": {},
   "outputs": [],
   "source": [
    "from model_trainer import ModelTrainer\n",
    "from sklearn.ensemble import RandomForestClassifier\n",
    "from lightgbm import LGBMClassifier\n",
    "from xgboost import XGBClassifier\n",
    "models = [RandomForestClassifier, LGBMClassifier, XGBClassifier]\n",
    "names = ['rfc', 'lgbm', 'xgb']\n",
    "mt = ModelTrainer(models, X, y, names)"
   ]
  },
  {
   "cell_type": "code",
   "execution_count": 13,
   "metadata": {},
   "outputs": [
    {
     "data": {
      "text/plain": [
       "[0.9741673223183847, 0.9773800157356411, 0.9773800157356414]"
      ]
     },
     "execution_count": 13,
     "metadata": {},
     "output_type": "execute_result"
    }
   ],
   "source": [
    "accs, indices_preds = mt.kfold_models(5, model_params=[{'n_estimators': 10}, {}, {}])\n",
    "accs"
   ]
  },
  {
   "cell_type": "code",
   "execution_count": 15,
   "metadata": {},
   "outputs": [
    {
     "data": {
      "text/plain": [
       "Text(0, 0.5, 'Accuracy')"
      ]
     },
     "execution_count": 15,
     "metadata": {},
     "output_type": "execute_result"
    },
    {
     "data": {
      "image/png": "[encoded data removed]",
      "text/plain": [
       "<Figure size 792x576 with 1 Axes>"
      ]
     },
     "metadata": {},
     "output_type": "display_data"
    }
   ],
   "source": [
    "x = accs + [ 0.97, 0.99]\n",
    "names = ['RFC*', 'XGB*', 'LGBM*', 'FFNN', 'LeNet']\n",
    "plt.figure(figsize=(11, 8))\n",
    "sns.set(style='whitegrid')\n",
    "sns.barplot(y=x, x=names)\n",
    "plt.title('Slope Error Classification Accuracies')\n",
    "plt.xlabel('Model Type, * = simplified data')\n",
    "plt.ylabel('Accuracy')"
   ]
  },
  {
   "cell_type": "code",
   "execution_count": 16,
   "metadata": {},
   "outputs": [
    {
     "data": {
      "text/plain": [
       "<matplotlib.legend.Legend at 0x7ff662016b50>"
      ]
     },
     "execution_count": 16,
     "metadata": {},
     "output_type": "execute_result"
    },
    {
     "data": {
      "image/png": "[encoded data removed]",
      "text/plain": [
       "<Figure size 1008x504 with 1 Axes>"
      ]
     },
     "metadata": {},
     "output_type": "display_data"
    }
   ],
   "source": [
    "plt.figure(figsize=(14, 7))\n",
    "sns.distplot(original_data[original_data['target']==1]['susness'], rug=False, bins=50, label='Slope Error')\n",
    "sns.distplot(original_data[original_data['target']==0]['susness'], rug=False, bins=50, label='No Slope Error')\n",
    "plt.title('No Slope Error vs Slope Error')\n",
    "plt.xlabel('Distance into No Mans Land')\n",
    "plt.ylabel('Occurrences')\n",
    "plt.legend()"
   ]
  },
  {
   "cell_type": "code",
   "execution_count": 12,
   "metadata": {},
   "outputs": [],
   "source": [
    "from data_transformation import get_suspicious_peaks, get_ranges, get_peak_suspiciousness\n",
    "original_data = dg.calibrated_df(True, .005, .01,use_ranges=True, ranges=[0, 0, 0.5], cat=True)\n",
    "ranges = get_ranges(isotope_data, 2000)\n",
    "original_data['sus_peaks'] = original_data['masses'].apply(get_suspicious_peaks, args=(ranges, .1))\n",
    "original_data['peak_sussness'] = original_data['masses'].apply(get_peak_suspiciousness, args=(ranges, True))"
   ]
  },
  {
   "cell_type": "code",
   "execution_count": 13,
   "metadata": {},
   "outputs": [],
   "source": [
    "original_data['susness'] = original_data['peak_sussness'].apply(np.mean)"
   ]
  },
  {
   "cell_type": "code",
   "execution_count": 15,
   "metadata": {},
   "outputs": [
    {
     "data": {
      "text/plain": [
       "<matplotlib.legend.Legend at 0x7fb2486e33d0>"
      ]
     },
     "execution_count": 15,
     "metadata": {},
     "output_type": "execute_result"
    },
    {
     "data": {
      "image/png": "[encoded data removed]",
      "text/plain": [
       "<Figure size 1008x504 with 1 Axes>"
      ]
     },
     "metadata": {
      "needs_background": "light"
     },
     "output_type": "display_data"
    }
   ],
   "source": [
    "plt.figure(figsize=(14, 7))\n",
    "sns.distplot(original_data[original_data['target']==1]['susness'], rug=False, bins=50, label='Offset Error')\n",
    "sns.distplot(original_data[original_data['target']==0]['susness'], rug=False, bins=50, label='No Offset Error')\n",
    "plt.title('No Offset Error vs Offset Error')\n",
    "plt.xlabel('Distance into No Mans Land')\n",
    "plt.ylabel('Occurrences')\n",
    "plt.legend()"
   ]
  },
  {
   "cell_type": "code",
   "execution_count": 21,
   "metadata": {},
   "outputs": [],
   "source": [
    "def get_xs(data, x=12):\n",
    "    xs = []\n",
    "    for row in data.itertuples():\n",
    "        row_x = -1\n",
    "        max = -1\n",
    "        for i, mass in enumerate(row.masses):\n",
    "            dif = abs(mass-x)\n",
    "            inten = row.intensities[i]\n",
    "            if dif < 0.1 and (inten > max or max == -1):\n",
    "                max = inten\n",
    "                row_x = dif\n",
    "        xs.append(row_x)\n",
    "    return xs\n",
    "original_data['twelves'] = get_xs(original_data)"
   ]
  },
  {
   "cell_type": "code",
   "execution_count": 23,
   "metadata": {},
   "outputs": [
    {
     "data": {
      "text/html": [
       "<div>\n",
       "<style scoped>\n",
       "    .dataframe tbody tr th:only-of-type {\n",
       "        vertical-align: middle;\n",
       "    }\n",
       "\n",
       "    .dataframe tbody tr th {\n",
       "        vertical-align: top;\n",
       "    }\n",
       "\n",
       "    .dataframe thead th {\n",
       "        text-align: right;\n",
       "    }\n",
       "</style>\n",
       "<table border=\"1\" class=\"dataframe\">\n",
       "  <thead>\n",
       "    <tr style=\"text-align: right;\">\n",
       "      <th></th>\n",
       "      <th>twelves</th>\n",
       "      <th>target</th>\n",
       "    </tr>\n",
       "  </thead>\n",
       "  <tbody>\n",
       "    <tr>\n",
       "      <td>count</td>\n",
       "      <td>8.740000e+02</td>\n",
       "      <td>874.000000</td>\n",
       "    </tr>\n",
       "    <tr>\n",
       "      <td>mean</td>\n",
       "      <td>3.721288e-03</td>\n",
       "      <td>0.494279</td>\n",
       "    </tr>\n",
       "    <tr>\n",
       "      <td>std</td>\n",
       "      <td>6.408331e-03</td>\n",
       "      <td>0.500254</td>\n",
       "    </tr>\n",
       "    <tr>\n",
       "      <td>min</td>\n",
       "      <td>3.579547e-07</td>\n",
       "      <td>0.000000</td>\n",
       "    </tr>\n",
       "    <tr>\n",
       "      <td>25%</td>\n",
       "      <td>3.634876e-04</td>\n",
       "      <td>0.000000</td>\n",
       "    </tr>\n",
       "    <tr>\n",
       "      <td>50%</td>\n",
       "      <td>7.018230e-04</td>\n",
       "      <td>0.000000</td>\n",
       "    </tr>\n",
       "    <tr>\n",
       "      <td>75%</td>\n",
       "      <td>4.130957e-03</td>\n",
       "      <td>1.000000</td>\n",
       "    </tr>\n",
       "    <tr>\n",
       "      <td>max</td>\n",
       "      <td>3.547915e-02</td>\n",
       "      <td>1.000000</td>\n",
       "    </tr>\n",
       "  </tbody>\n",
       "</table>\n",
       "</div>"
      ],
      "text/plain": [
       "            twelves      target\n",
       "count  8.740000e+02  874.000000\n",
       "mean   3.721288e-03    0.494279\n",
       "std    6.408331e-03    0.500254\n",
       "min    3.579547e-07    0.000000\n",
       "25%    3.634876e-04    0.000000\n",
       "50%    7.018230e-04    0.000000\n",
       "75%    4.130957e-03    1.000000\n",
       "max    3.547915e-02    1.000000"
      ]
     },
     "execution_count": 23,
     "metadata": {},
     "output_type": "execute_result"
    }
   ],
   "source": [
    "original_data[original_data['twelves'] != -1][['twelves', 'target']].describe()"
   ]
  },
  {
   "cell_type": "code",
   "execution_count": 24,
   "metadata": {},
   "outputs": [
    {
     "data": {
      "text/plain": [
       "0.005139637106760032"
      ]
     },
     "execution_count": 24,
     "metadata": {},
     "output_type": "execute_result"
    }
   ],
   "source": [
    "np.mean(original_data[(original_data['target'] == 1) & (original_data['twelves'] != -1)]['twelves'])"
   ]
  },
  {
   "cell_type": "code",
   "execution_count": 25,
   "metadata": {},
   "outputs": [
    {
     "data": {
      "text/plain": [
       "0.0072724082680673974"
      ]
     },
     "execution_count": 25,
     "metadata": {},
     "output_type": "execute_result"
    }
   ],
   "source": [
    "np.std(original_data[(original_data['target'] == 1) & (original_data['twelves'] != -1)]['twelves'])"
   ]
  },
  {
   "cell_type": "code",
   "execution_count": 26,
   "metadata": {},
   "outputs": [
    {
     "data": {
      "text/plain": [
       "0.0023350272986277505"
      ]
     },
     "execution_count": 26,
     "metadata": {},
     "output_type": "execute_result"
    }
   ],
   "source": [
    "np.mean(original_data[(original_data['target'] == 0) & (original_data['twelves'] != -1)]['twelves'])"
   ]
  },
  {
   "cell_type": "code",
   "execution_count": 27,
   "metadata": {},
   "outputs": [
    {
     "data": {
      "text/plain": [
       "0.005052930673140101"
      ]
     },
     "execution_count": 27,
     "metadata": {},
     "output_type": "execute_result"
    }
   ],
   "source": [
    "np.std(original_data[(original_data['target'] == 0) & (original_data['twelves'] != -1)]['twelves'])"
   ]
  },
  {
   "cell_type": "code",
   "execution_count": 28,
   "metadata": {},
   "outputs": [
    {
     "data": {
      "text/plain": [
       "32"
      ]
     },
     "execution_count": 28,
     "metadata": {},
     "output_type": "execute_result"
    }
   ],
   "source": [
    "len(original_data[original_data['twelves'] == -1]['twelves'])"
   ]
  },
  {
   "cell_type": "code",
   "execution_count": 53,
   "metadata": {},
   "outputs": [
    {
     "data": {
      "text/plain": [
       "<matplotlib.legend.Legend at 0x7fc2dea7d790>"
      ]
     },
     "execution_count": 53,
     "metadata": {},
     "output_type": "execute_result"
    },
    {
     "data": {
      "image/png": "[encoded data removed]",
      "text/plain": [
       "<Figure size 1008x504 with 1 Axes>"
      ]
     },
     "metadata": {},
     "output_type": "display_data"
    }
   ],
   "source": [
    "plt.figure(figsize=(14, 7))\n",
    "sns.distplot(original_data[(original_data['target'] == 1) & (original_data['twelves'] != -1)]['twelves'], rug=False, bins=50, label='Offset Error')\n",
    "sns.distplot(original_data[(original_data['target'] == 0) & (original_data['twelves'] != -1)]['twelves'], rug=False, bins=50, label='No Offset Error')\n",
    "plt.title('No Offset Error vs Offset Error')\n",
    "plt.xlabel('Distance From 12')\n",
    "plt.ylabel('Occurrences')\n",
    "plt.legend()"
   ]
  },
  {
   "cell_type": "code",
   "execution_count": 27,
   "metadata": {},
   "outputs": [],
   "source": [
    "df = pd.read_csv('../data/processed_cas.csv')\n",
    "for column in df.columns:\n",
    "    try:\n",
    "        df[column] = df[column].apply(str.strip)\n",
    "    except:\n",
    "        pass\n",
    "df.drop('Unnamed: 0', inplace=True, axis=1)"
   ]
  },
  {
   "cell_type": "code",
   "execution_count": 71,
   "metadata": {},
   "outputs": [
    {
     "data": {
      "text/plain": [
       "'8 (15.023422, CH3, 15.023475) (27.023067, C2H3, 27.023475) (55.054122, C4H7, 55.054775) (69.070613, C5H9, 69.070425) (83.087059, C6H11, 83.086075) (95.087318, C7H11, 95.086075) (283.262196, C18H35O2, 283.263675) (311.295154, C20H39O2, 311.294975)'"
      ]
     },
     "execution_count": 71,
     "metadata": {},
     "output_type": "execute_result"
    }
   ],
   "source": [
    "df['Calibration'][5]"
   ]
  },
  {
   "cell_type": "code",
   "execution_count": 73,
   "metadata": {},
   "outputs": [
    {
     "data": {
      "text/html": [
       "<div>\n",
       "<style scoped>\n",
       "    .dataframe tbody tr th:only-of-type {\n",
       "        vertical-align: middle;\n",
       "    }\n",
       "\n",
       "    .dataframe tbody tr th {\n",
       "        vertical-align: top;\n",
       "    }\n",
       "\n",
       "    .dataframe thead th {\n",
       "        text-align: right;\n",
       "    }\n",
       "</style>\n",
       "<table border=\"1\" class=\"dataframe\">\n",
       "  <thead>\n",
       "    <tr style=\"text-align: right;\">\n",
       "      <th></th>\n",
       "      <th>Element</th>\n",
       "      <th>Isotope Masses</th>\n",
       "      <th>Isotope Frequencies</th>\n",
       "    </tr>\n",
       "  </thead>\n",
       "  <tbody>\n",
       "    <tr>\n",
       "      <td>5</td>\n",
       "      <td>Carbon</td>\n",
       "      <td>[12.0, 13.00335, 14.003242]</td>\n",
       "      <td>[0.98892, 0.01108, 0.0]</td>\n",
       "    </tr>\n",
       "    <tr>\n",
       "      <td>6</td>\n",
       "      <td>Nitrogen</td>\n",
       "      <td>[14.00307, 15.00011]</td>\n",
       "      <td>[0.99635, 0.00365]</td>\n",
       "    </tr>\n",
       "    <tr>\n",
       "      <td>7</td>\n",
       "      <td>Oxygen</td>\n",
       "      <td>[15.9949, 16.99913, 17.99916]</td>\n",
       "      <td>[0.99759, 0.00037, 0.00204]</td>\n",
       "    </tr>\n",
       "    <tr>\n",
       "      <td>8</td>\n",
       "      <td>Fluorine</td>\n",
       "      <td>[18.9984]</td>\n",
       "      <td>[1.0]</td>\n",
       "    </tr>\n",
       "    <tr>\n",
       "      <td>9</td>\n",
       "      <td>Neon</td>\n",
       "      <td>[19.9924, 20.9938, 21.99138]</td>\n",
       "      <td>[0.9092, 0.00257, 0.0882]</td>\n",
       "    </tr>\n",
       "    <tr>\n",
       "      <td>10</td>\n",
       "      <td>Sodium</td>\n",
       "      <td>[22.98977]</td>\n",
       "      <td>[1.0]</td>\n",
       "    </tr>\n",
       "    <tr>\n",
       "      <td>11</td>\n",
       "      <td>Magnesium</td>\n",
       "      <td>[23.985, 24.9858, 25.9826]</td>\n",
       "      <td>[0.786, 0.1011, 0.1129]</td>\n",
       "    </tr>\n",
       "    <tr>\n",
       "      <td>12</td>\n",
       "      <td>Aluminum</td>\n",
       "      <td>[26.98154]</td>\n",
       "      <td>[1.0]</td>\n",
       "    </tr>\n",
       "    <tr>\n",
       "      <td>13</td>\n",
       "      <td>Silicon</td>\n",
       "      <td>[27.97693, 28.9765, 29.97377]</td>\n",
       "      <td>[0.9218, 0.0471, 0.0312]</td>\n",
       "    </tr>\n",
       "    <tr>\n",
       "      <td>14</td>\n",
       "      <td>Phosphorous</td>\n",
       "      <td>[30.97376]</td>\n",
       "      <td>[1.0]</td>\n",
       "    </tr>\n",
       "    <tr>\n",
       "      <td>15</td>\n",
       "      <td>Sulphur</td>\n",
       "      <td>[31.9721, 32.97146, 33.9679]</td>\n",
       "      <td>[0.95018, 0.0075, 0.04215]</td>\n",
       "    </tr>\n",
       "    <tr>\n",
       "      <td>16</td>\n",
       "      <td>Chlorine</td>\n",
       "      <td>[34.96885, 36.9659]</td>\n",
       "      <td>[0.754, 0.246]</td>\n",
       "    </tr>\n",
       "    <tr>\n",
       "      <td>17</td>\n",
       "      <td>Argon</td>\n",
       "      <td>[35.96755, 37.9627, 39.96238]</td>\n",
       "      <td>[0.00337, 0.00063, 0.996]</td>\n",
       "    </tr>\n",
       "    <tr>\n",
       "      <td>18</td>\n",
       "      <td>Potassium</td>\n",
       "      <td>[38.9637, 39.964, 40.9618]</td>\n",
       "      <td>[0.9308, 0.00012, 0.0691]</td>\n",
       "    </tr>\n",
       "    <tr>\n",
       "      <td>19</td>\n",
       "      <td>Calcium</td>\n",
       "      <td>[39.9626, 41.95862, 42.95877, 43.95548, 45.953...</td>\n",
       "      <td>[0.9692, 0.0064, 0.0013, 0.0213, 3.2e-05, 0.00...</td>\n",
       "    </tr>\n",
       "    <tr>\n",
       "      <td>20</td>\n",
       "      <td>Scandium</td>\n",
       "      <td>[44.9559]</td>\n",
       "      <td>[1.0]</td>\n",
       "    </tr>\n",
       "    <tr>\n",
       "      <td>21</td>\n",
       "      <td>Titanium</td>\n",
       "      <td>[45.9526, 46.95176, 47.94795, 48.9479, 49.9448]</td>\n",
       "      <td>[0.0795, 0.0775, 0.7345, 0.0551, 0.0534]</td>\n",
       "    </tr>\n",
       "    <tr>\n",
       "      <td>22</td>\n",
       "      <td>Vanadium</td>\n",
       "      <td>[49.9472, 50.944]</td>\n",
       "      <td>[0.0024, 0.9976]</td>\n",
       "    </tr>\n",
       "    <tr>\n",
       "      <td>23</td>\n",
       "      <td>Chromium</td>\n",
       "      <td>[49.946, 51.9405, 52.94065, 53.9389]</td>\n",
       "      <td>[0.0431, 0.8376, 0.0955, 0.0238]</td>\n",
       "    </tr>\n",
       "    <tr>\n",
       "      <td>24</td>\n",
       "      <td>Manganese</td>\n",
       "      <td>[54.938]</td>\n",
       "      <td>[1.0]</td>\n",
       "    </tr>\n",
       "    <tr>\n",
       "      <td>25</td>\n",
       "      <td>Iron</td>\n",
       "      <td>[53.9396, 55.9349, 56.9354, 57.9333]</td>\n",
       "      <td>[0.059, 0.9152, 0.0225, 0.0033]</td>\n",
       "    </tr>\n",
       "    <tr>\n",
       "      <td>26</td>\n",
       "      <td>Cobalt</td>\n",
       "      <td>[58.9332]</td>\n",
       "      <td>[1.0]</td>\n",
       "    </tr>\n",
       "    <tr>\n",
       "      <td>27</td>\n",
       "      <td>Nickel</td>\n",
       "      <td>[57.9353, 59.9308, 60.9311, 61.9283, 63.928]</td>\n",
       "      <td>[0.6776, 0.2616, 0.0125, 0.0366, 0.0116]</td>\n",
       "    </tr>\n",
       "    <tr>\n",
       "      <td>28</td>\n",
       "      <td>Copper</td>\n",
       "      <td>[62.9296, 64.9278]</td>\n",
       "      <td>[0.6909, 0.3091]</td>\n",
       "    </tr>\n",
       "    <tr>\n",
       "      <td>29</td>\n",
       "      <td>Zinc</td>\n",
       "      <td>[63.9291, 65.926, 66.9271, 67.9248, 69.9253]</td>\n",
       "      <td>[0.4889, 0.2781, 0.0411, 0.1856, 0.0062]</td>\n",
       "    </tr>\n",
       "    <tr>\n",
       "      <td>30</td>\n",
       "      <td>Gallium</td>\n",
       "      <td>[68.9256, 70.9247]</td>\n",
       "      <td>[0.602, 0.398]</td>\n",
       "    </tr>\n",
       "  </tbody>\n",
       "</table>\n",
       "</div>"
      ],
      "text/plain": [
       "        Element                                     Isotope Masses  \\\n",
       "5        Carbon                        [12.0, 13.00335, 14.003242]   \n",
       "6      Nitrogen                               [14.00307, 15.00011]   \n",
       "7        Oxygen                      [15.9949, 16.99913, 17.99916]   \n",
       "8      Fluorine                                          [18.9984]   \n",
       "9          Neon                       [19.9924, 20.9938, 21.99138]   \n",
       "10       Sodium                                         [22.98977]   \n",
       "11    Magnesium                         [23.985, 24.9858, 25.9826]   \n",
       "12     Aluminum                                         [26.98154]   \n",
       "13      Silicon                      [27.97693, 28.9765, 29.97377]   \n",
       "14  Phosphorous                                         [30.97376]   \n",
       "15      Sulphur                       [31.9721, 32.97146, 33.9679]   \n",
       "16     Chlorine                                [34.96885, 36.9659]   \n",
       "17        Argon                      [35.96755, 37.9627, 39.96238]   \n",
       "18    Potassium                         [38.9637, 39.964, 40.9618]   \n",
       "19      Calcium  [39.9626, 41.95862, 42.95877, 43.95548, 45.953...   \n",
       "20     Scandium                                          [44.9559]   \n",
       "21     Titanium    [45.9526, 46.95176, 47.94795, 48.9479, 49.9448]   \n",
       "22     Vanadium                                  [49.9472, 50.944]   \n",
       "23     Chromium               [49.946, 51.9405, 52.94065, 53.9389]   \n",
       "24    Manganese                                           [54.938]   \n",
       "25         Iron               [53.9396, 55.9349, 56.9354, 57.9333]   \n",
       "26       Cobalt                                          [58.9332]   \n",
       "27       Nickel       [57.9353, 59.9308, 60.9311, 61.9283, 63.928]   \n",
       "28       Copper                                 [62.9296, 64.9278]   \n",
       "29         Zinc       [63.9291, 65.926, 66.9271, 67.9248, 69.9253]   \n",
       "30      Gallium                                 [68.9256, 70.9247]   \n",
       "\n",
       "                                  Isotope Frequencies  \n",
       "5                             [0.98892, 0.01108, 0.0]  \n",
       "6                                  [0.99635, 0.00365]  \n",
       "7                         [0.99759, 0.00037, 0.00204]  \n",
       "8                                               [1.0]  \n",
       "9                           [0.9092, 0.00257, 0.0882]  \n",
       "10                                              [1.0]  \n",
       "11                            [0.786, 0.1011, 0.1129]  \n",
       "12                                              [1.0]  \n",
       "13                           [0.9218, 0.0471, 0.0312]  \n",
       "14                                              [1.0]  \n",
       "15                         [0.95018, 0.0075, 0.04215]  \n",
       "16                                     [0.754, 0.246]  \n",
       "17                          [0.00337, 0.00063, 0.996]  \n",
       "18                          [0.9308, 0.00012, 0.0691]  \n",
       "19  [0.9692, 0.0064, 0.0013, 0.0213, 3.2e-05, 0.00...  \n",
       "20                                              [1.0]  \n",
       "21           [0.0795, 0.0775, 0.7345, 0.0551, 0.0534]  \n",
       "22                                   [0.0024, 0.9976]  \n",
       "23                   [0.0431, 0.8376, 0.0955, 0.0238]  \n",
       "24                                              [1.0]  \n",
       "25                    [0.059, 0.9152, 0.0225, 0.0033]  \n",
       "26                                              [1.0]  \n",
       "27           [0.6776, 0.2616, 0.0125, 0.0366, 0.0116]  \n",
       "28                                   [0.6909, 0.3091]  \n",
       "29           [0.4889, 0.2781, 0.0411, 0.1856, 0.0062]  \n",
       "30                                     [0.602, 0.398]  "
      ]
     },
     "execution_count": 73,
     "metadata": {},
     "output_type": "execute_result"
    }
   ],
   "source": [
    "isotope_data.loc[5:30]"
   ]
  },
  {
   "cell_type": "code",
   "execution_count": 29,
   "metadata": {},
   "outputs": [],
   "source": [
    "unchanged_data = dg.calibrated_df()"
   ]
  },
  {
   "cell_type": "code",
   "execution_count": 30,
   "metadata": {},
   "outputs": [],
   "source": [
    "changed_data = dg.calibrated_df(True, .005, .01,use_ranges=True, ranges=[0, 0, 1], cat=True)"
   ]
  },
  {
   "cell_type": "code",
   "execution_count": 31,
   "metadata": {},
   "outputs": [],
   "source": [
    "unchanged_data['Cs'] = get_xs(unchanged_data)\n",
    "unchanged_data['CHs'] = get_xs(unchanged_data, x=13.007825)\n",
    "unchanged_data['CH3s'] = get_xs(unchanged_data, x=15.023475)\n",
    "unchanged_data['C2Hs'] = get_xs(unchanged_data, x=25.007825)\n",
    "unchanged_data['C3H5s'] = get_xs(unchanged_data, x=41.0391255)"
   ]
  },
  {
   "cell_type": "code",
   "execution_count": 35,
   "metadata": {},
   "outputs": [],
   "source": [
    "dists = unchanged_data[['Cs', 'CHs','CH3s', 'C2Hs', 'C3H5s','file_name']].copy()\n",
    "dists = dists.sort_values(['C3H5s'], ascending=False)\n",
    "dists.reset_index(inplace=True, drop=True)"
   ]
  },
  {
   "cell_type": "code",
   "execution_count": 33,
   "metadata": {},
   "outputs": [],
   "source": [
    "dists.to_csv('dists_from_unique_spots.csv')"
   ]
  },
  {
   "cell_type": "code",
   "execution_count": 37,
   "metadata": {},
   "outputs": [
    {
     "data": {
      "text/plain": [
       "0.02545445949758829"
      ]
     },
     "execution_count": 37,
     "metadata": {},
     "output_type": "execute_result"
    }
   ],
   "source": [
    "dists['C3H5s'][405]"
   ]
  },
  {
   "cell_type": "code",
   "execution_count": 150,
   "metadata": {},
   "outputs": [],
   "source": [
    "good_examples = dists.loc[450:]"
   ]
  },
  {
   "cell_type": "code",
   "execution_count": 124,
   "metadata": {},
   "outputs": [],
   "source": [
    "changed_data['Cs'] = get_xs(changed_data)\n",
    "changed_data['CHs'] = get_xs(changed_data, x=13.007825)\n",
    "changed_data['CH3s'] = get_xs(changed_data, x=15.023475)\n",
    "changed_data['C2Hs'] = get_xs(changed_data, x=25.007825)\n",
    "changed_data['C3H5s'] = get_xs(changed_data, x=41.0391255)"
   ]
  },
  {
   "cell_type": "code",
   "execution_count": 126,
   "metadata": {},
   "outputs": [],
   "source": [
    "offset_dists = changed_data[['Cs', 'CHs','CH3s', 'C2Hs', 'C3H5s','file_name', 'target']]"
   ]
  },
  {
   "cell_type": "code",
   "execution_count": 145,
   "metadata": {},
   "outputs": [],
   "source": [
    "offset_dists = offset_dists.sort_values(['Cs', 'CHs', 'CH3s'], ascending=False)\n",
    "offset_dists.reset_index(inplace=True, drop=True)"
   ]
  },
  {
   "cell_type": "code",
   "execution_count": 135,
   "metadata": {},
   "outputs": [],
   "source": [
    "from data_transformation import mass_formula"
   ]
  },
  {
   "cell_type": "code",
   "execution_count": 151,
   "metadata": {},
   "outputs": [],
   "source": [
    "good_examples = np.hstack([np.array(good_examples.drop('file_name', axis=1)), np.zeros((456, 1))])"
   ]
  },
  {
   "cell_type": "code",
   "execution_count": 153,
   "metadata": {},
   "outputs": [],
   "source": [
    "bad_examples = np.array(offset_dists.drop('file_name', axis=1))"
   ]
  },
  {
   "cell_type": "code",
   "execution_count": 156,
   "metadata": {},
   "outputs": [],
   "source": [
    "training_data = np.vstack([good_examples, bad_examples])"
   ]
  },
  {
   "cell_type": "code",
   "execution_count": 177,
   "metadata": {},
   "outputs": [],
   "source": [
    "X = training_data[:, 0:5]\n",
    "y = training_data[:, 5]"
   ]
  },
  {
   "cell_type": "code",
   "execution_count": 178,
   "metadata": {},
   "outputs": [],
   "source": [
    "models = [RandomForestClassifier, LGBMClassifier, XGBClassifier]\n",
    "names = ['rfc', 'lgbm', 'xgb']\n",
    "mt = ModelTrainer(models, X, y, names)"
   ]
  },
  {
   "cell_type": "code",
   "execution_count": 179,
   "metadata": {},
   "outputs": [
    {
     "data": {
      "text/plain": [
       "[0.2879928894634777, 0.28430833872010347, 0.2887254901960784]"
      ]
     },
     "execution_count": 179,
     "metadata": {},
     "output_type": "execute_result"
    }
   ],
   "source": [
    "accs, indices_preds = mt.kfold_models(5, model_params=[{'n_estimators': 10}, {}, {}])\n",
    "accs"
   ]
  },
  {
   "cell_type": "code",
   "execution_count": 180,
   "metadata": {},
   "outputs": [
    {
     "data": {
      "text/plain": [
       "456"
      ]
     },
     "execution_count": 180,
     "metadata": {},
     "output_type": "execute_result"
    }
   ],
   "source": [
    "len(good_examples)"
   ]
  },
  {
   "cell_type": "code",
   "execution_count": 181,
   "metadata": {},
   "outputs": [
    {
     "data": {
      "text/plain": [
       "906"
      ]
     },
     "execution_count": 181,
     "metadata": {},
     "output_type": "execute_result"
    }
   ],
   "source": [
    "len(bad_examples)"
   ]
  },
  {
   "cell_type": "code",
   "execution_count": 182,
   "metadata": {},
   "outputs": [
    {
     "data": {
      "text/plain": [
       "0.33480176211453744"
      ]
     },
     "execution_count": 182,
     "metadata": {},
     "output_type": "execute_result"
    }
   ],
   "source": [
    "len(good_examples) / (len(good_examples) + len(bad_examples))"
   ]
  }
 ],
 "metadata": {
  "kernelspec": {
   "display_name": "Python 3",
   "language": "python",
   "name": "python3"
  },
  "language_info": {
   "codemirror_mode": {
    "name": "ipython",
    "version": 3
   },
   "file_extension": ".py",
   "mimetype": "text/x-python",
   "name": "python",
   "nbconvert_exporter": "python",
   "pygments_lexer": "ipython3",
   "version": "3.7.4"
  }
 },
 "nbformat": 4,
 "nbformat_minor": 2
}
