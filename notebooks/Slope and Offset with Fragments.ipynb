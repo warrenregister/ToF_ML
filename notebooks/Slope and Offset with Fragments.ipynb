{
 "cells": [
  {
   "cell_type": "code",
   "execution_count": 1,
   "metadata": {},
   "outputs": [],
   "source": [
    "import pandas as pd\n",
    "import numpy as np\n",
    "import matplotlib.pyplot as plt\n",
    "import seaborn as sns\n",
    "from sys import path\n",
    "%matplotlib inline"
   ]
  },
  {
   "cell_type": "code",
   "execution_count": 3,
   "metadata": {},
   "outputs": [],
   "source": [
    "path.insert(0, '../src')\n",
    "from setup import data_setup\n",
    "from data_generator import DataGenerator\n",
    "from model_trainer import ModelTrainer"
   ]
  },
  {
   "cell_type": "code",
   "execution_count": 4,
   "metadata": {},
   "outputs": [],
   "source": [
    "dg = data_setup()\n",
    "norm_data = dg.df()"
   ]
  },
  {
   "cell_type": "code",
   "execution_count": 68,
   "metadata": {},
   "outputs": [],
   "source": [
    "def get_frags(loc='../data/FragLibData32_Converted2010 (1)/Fragment Table.csv'):\n",
    "    df = pd.read_csv(loc)\n",
    "    a = list(df.columns[0:])\n",
    "    a[0] = float(a[0])\n",
    "    a[-1] = int(a[-1])\n",
    "    a[-2] = a[-2][0]\n",
    "    df.columns = ['FragmentMass', 'FragmentLabel', 'Isotopes', 'Formula', 'FragmentID']\n",
    "    b = {'FragmentMass': a[0], 'FragmentLabel': a[1], 'Isotopes':a[2] , 'Formula':a[3],'FragmentID':a[4]}\n",
    "    df = pd.concat([pd.DataFrame(b, index=[0]), df], sort=False)\n",
    "    return df"
   ]
  },
  {
   "cell_type": "code",
   "execution_count": 69,
   "metadata": {},
   "outputs": [],
   "source": [
    "frags = get_frags()"
   ]
  },
  {
   "cell_type": "code",
   "execution_count": 92,
   "metadata": {},
   "outputs": [],
   "source": [
    "def get_ranges(frags, length, max = 235):\n",
    "    '''\n",
    "    Computes no mans land spectras.\n",
    "    '''\n",
    "    ranges = [[x, x + 1] for x in range(length)]\n",
    "    for mass in frags:\n",
    "        i = int(mass)\n",
    "        if mass < 235.043933:\n",
    "            if round(mass) == i + 1 and mass < ranges[i][1]:\n",
    "                ranges[i][1] = mass\n",
    "            elif round(mass) == i and mass > ranges[i][0]:\n",
    "                ranges[i][0] = mass\n",
    "        else:\n",
    "            ranges[i][0] = mass\n",
    "            ranges[i][1] = i + .9871\n",
    "    return ranges"
   ]
  },
  {
   "cell_type": "code",
   "execution_count": 93,
   "metadata": {},
   "outputs": [],
   "source": [
    "from data_transformation import get_hydrocarbs\n",
    "masses = list(frags['FragmentMass']) + get_hydrocarbs(51)"
   ]
  },
  {
   "cell_type": "code",
   "execution_count": 95,
   "metadata": {},
   "outputs": [],
   "source": [
    "ranges = get_ranges(masses, 1000)"
   ]
  },
  {
   "cell_type": "code",
   "execution_count": 96,
   "metadata": {},
   "outputs": [],
   "source": [
    "from data_transformation import generate_data\n",
    "# 10,000 Examples\n",
    "erred = generate_data(norm_data, 2, 2, True, [0, 0, 0])\n",
    "for _ in range(10):\n",
    "    erred = pd.concat([erred, generate_data(norm_data, 2, 2, True, [.3, .6, 1], True)], axis=0)\n",
    "erred['target'] = erred['target'].apply(lambda a: a - 1 if a > 0 else a)\n",
    "dg.set_df(erred)\n",
    "erred = dg.calibrated_df()"
   ]
  },
  {
   "cell_type": "code",
   "execution_count": null,
   "metadata": {},
   "outputs": [],
   "source": [
    "def get_spectra(masses, intensities, nom_masses_low, nom_masses_high):\n",
    "    spectra = [0 for x in range(2000)]\n",
    "    spectra_intensities = [0 for x in range(2000)]\n",
    "    for i, mass in enumerate(masses):\n",
    "        j = round(mass)\n",
    "        num = mass - nom_masses_low[j]\n",
    "        spectra_intensities[j] = intensities[i]\n",
    "        if num < 0:\n",
    "            spectra[j] = num\n",
    "        else:\n",
    "            spectra[j] = mass - nom_masses_high[j]\n",
    "    return spectra, spectra_intensities"
   ]
  }
 ],
 "metadata": {
  "kernelspec": {
   "display_name": "Python 3",
   "language": "python",
   "name": "python3"
  },
  "language_info": {
   "codemirror_mode": {
    "name": "ipython",
    "version": 3
   },
   "file_extension": ".py",
   "mimetype": "text/x-python",
   "name": "python",
   "nbconvert_exporter": "python",
   "pygments_lexer": "ipython3",
   "version": "3.7.4"
  }
 },
 "nbformat": 4,
 "nbformat_minor": 2
}
