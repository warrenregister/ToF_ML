{
 "cells": [
  {
   "cell_type": "code",
   "execution_count": 1,
   "metadata": {},
   "outputs": [],
   "source": [
    "import pandas as pd\n",
    "import numpy as np\n",
    "import matplotlib.pyplot as plt\n",
    "import seaborn as sns\n",
    "from sys import path\n",
    "%matplotlib inline"
   ]
  },
  {
   "cell_type": "code",
   "execution_count": 2,
   "metadata": {},
   "outputs": [],
   "source": [
    "path.insert(0, '../src')\n",
    "from data_generator import DataGenerator\n",
    "from model_trainer import ModelTrainer"
   ]
  },
  {
   "cell_type": "code",
   "execution_count": 31,
   "metadata": {},
   "outputs": [],
   "source": [
    "from data_transformation import get_better_spectra, get_precise_peaks\n",
    "dg = DataGenerator('../data/classification_cas_data.csv')\n",
    "norm_data = dg.df()"
   ]
  },
  {
   "cell_type": "code",
   "execution_count": 42,
   "metadata": {},
   "outputs": [],
   "source": [
    "data = get_better_spectra(dir='../data/SpectraCsvFiles_BkgndSubtractWatsonPeakFinder/')\n",
    "norm_data.sort_values('file_name', inplace=True)\n",
    "data.sort_values('file_name', inplace=True)\n",
    "original_data = pd.merge(data, norm_data, on='file_name')"
   ]
  },
  {
   "cell_type": "code",
   "execution_count": 43,
   "metadata": {},
   "outputs": [],
   "source": [
    "peaks = get_precise_peaks(original_data, ['precise_channels', 'precise_intensities'])\n",
    "original_data['peaks'] = peaks\n",
    "dg.set_df(original_data)"
   ]
  },
  {
   "cell_type": "code",
   "execution_count": 44,
   "metadata": {},
   "outputs": [],
   "source": [
    "from data_transformation import get_isotope_data, get_isotope_mass_list\n",
    "isotope_data = get_isotope_data()\n",
    "nom_masses_low = get_isotope_mass_list(isotope_data, False, 2000)\n",
    "nom_masses_high = get_isotope_mass_list(isotope_data, True, 2000)"
   ]
  },
  {
   "cell_type": "code",
   "execution_count": 45,
   "metadata": {},
   "outputs": [],
   "source": [
    "original_data = dg.calibrated_df(False)"
   ]
  },
  {
   "cell_type": "code",
   "execution_count": 46,
   "metadata": {},
   "outputs": [],
   "source": [
    "from data_transformation import get_peaks_near_nom_masses\n",
    "def get_extreme_peaks(masses, nom_masses_low, nom_masses_high, thresh=0.1):\n",
    "    '''\n",
    "    Finds masses in no mans land between extreme isotope mass values.\n",
    "    Returns peaks below extreme value, values below nearest isotope\n",
    "    mass but greater than .5 above the isotope mass below them. Also\n",
    "    returns peaks above nearest isotope mass.\n",
    "    \n",
    "    Arguments-------\n",
    "    masses: data structure containing arrays / lists of masses\n",
    "    nom_masses_low: list of low extreme isotope masses\n",
    "    nom_masses_high: list of high extreme isotope masses\n",
    "    thresh: how far above or below an isotope mass a peak must be for\n",
    "    it to be selected.\n",
    "    '''\n",
    "    num_above = []\n",
    "    peaks_above = []\n",
    "    num_below = []\n",
    "    peaks_below = []\n",
    "    for row in masses:\n",
    "        peaks, dists = get_peaks_near_nom_masses(row, nom_masses_low, -1)\n",
    "        peaks = np.array(peaks)[np.array(dists) < -1 * thresh]\n",
    "        num_below.append(len(peaks))\n",
    "        peaks_below.append(peaks)\n",
    "        peaks, dist = get_peaks_near_nom_masses(row, nom_masses_high, -1, rev=True)\n",
    "        peaks = np.array(peaks)[np.array(dists) > thresh]\n",
    "        num_above.append(len(peaks))\n",
    "        peaks_above.append(peaks)\n",
    "    return peaks_above, peaks_below"
   ]
  },
  {
   "cell_type": "code",
   "execution_count": 47,
   "metadata": {},
   "outputs": [
    {
     "data": {
      "text/html": [
       "<div>\n",
       "<style scoped>\n",
       "    .dataframe tbody tr th:only-of-type {\n",
       "        vertical-align: middle;\n",
       "    }\n",
       "\n",
       "    .dataframe tbody tr th {\n",
       "        vertical-align: top;\n",
       "    }\n",
       "\n",
       "    .dataframe thead th {\n",
       "        text-align: right;\n",
       "    }\n",
       "</style>\n",
       "<table border=\"1\" class=\"dataframe\">\n",
       "  <thead>\n",
       "    <tr style=\"text-align: right;\">\n",
       "      <th></th>\n",
       "      <th>file_name</th>\n",
       "      <th>peaks_below</th>\n",
       "      <th>num_below</th>\n",
       "      <th>peaks_above</th>\n",
       "      <th>num_above</th>\n",
       "    </tr>\n",
       "  </thead>\n",
       "  <tbody>\n",
       "    <tr>\n",
       "      <td>681</td>\n",
       "      <td>FC724_02.cas</td>\n",
       "      <td>[261.5863525802578, 1142.5003190574034, 226.52...</td>\n",
       "      <td>349</td>\n",
       "      <td>[583.0132731240417, 201.9836303307803, 176.956...</td>\n",
       "      <td>577</td>\n",
       "    </tr>\n",
       "    <tr>\n",
       "      <td>677</td>\n",
       "      <td>FC722_04.cas</td>\n",
       "      <td>[261.5078375858391, 242.54690404411895, 426.50...</td>\n",
       "      <td>307</td>\n",
       "      <td>[594.0356761177015, 411.03562082142247, 42.994...</td>\n",
       "      <td>559</td>\n",
       "    </tr>\n",
       "    <tr>\n",
       "      <td>867</td>\n",
       "      <td>TBA002.cas</td>\n",
       "      <td>[664.5002131278137, 719.5013906155907, 668.503...</td>\n",
       "      <td>291</td>\n",
       "      <td>[117.93866198431608, 63.964369811383335, 101.9...</td>\n",
       "      <td>512</td>\n",
       "    </tr>\n",
       "    <tr>\n",
       "      <td>839</td>\n",
       "      <td>PTMO008.cas</td>\n",
       "      <td>[554.5069499895332, 596.5082766780985, 582.514...</td>\n",
       "      <td>278</td>\n",
       "      <td>[240.82398944909326, 234.810623096754, 268.765...</td>\n",
       "      <td>174</td>\n",
       "    </tr>\n",
       "    <tr>\n",
       "      <td>666</td>\n",
       "      <td>FC129_01.cas</td>\n",
       "      <td>[294.5008580818698, 278.51299746892175, 296.52...</td>\n",
       "      <td>266</td>\n",
       "      <td>[493.79149815910375, 350.78944612495286, 242.8...</td>\n",
       "      <td>88</td>\n",
       "    </tr>\n",
       "  </tbody>\n",
       "</table>\n",
       "</div>"
      ],
      "text/plain": [
       "        file_name                                        peaks_below  \\\n",
       "681  FC724_02.cas  [261.5863525802578, 1142.5003190574034, 226.52...   \n",
       "677  FC722_04.cas  [261.5078375858391, 242.54690404411895, 426.50...   \n",
       "867    TBA002.cas  [664.5002131278137, 719.5013906155907, 668.503...   \n",
       "839   PTMO008.cas  [554.5069499895332, 596.5082766780985, 582.514...   \n",
       "666  FC129_01.cas  [294.5008580818698, 278.51299746892175, 296.52...   \n",
       "\n",
       "     num_below                                        peaks_above  num_above  \n",
       "681        349  [583.0132731240417, 201.9836303307803, 176.956...        577  \n",
       "677        307  [594.0356761177015, 411.03562082142247, 42.994...        559  \n",
       "867        291  [117.93866198431608, 63.964369811383335, 101.9...        512  \n",
       "839        278  [240.82398944909326, 234.810623096754, 268.765...        174  \n",
       "666        266  [493.79149815910375, 350.78944612495286, 242.8...         88  "
      ]
     },
     "execution_count": 47,
     "metadata": {},
     "output_type": "execute_result"
    }
   ],
   "source": [
    "peaks_above, peaks_below = get_extreme_peaks(original_data['masses'], nom_masses_low, nom_masses_high)\n",
    "outliers = pd.DataFrame(original_data['file_name'])\n",
    "outliers['peaks_below'] = peaks_below\n",
    "outliers['num_below'] = outliers['peaks_below'].apply(len)\n",
    "outliers['peaks_above'] = peaks_above\n",
    "outliers['num_above'] = outliers['peaks_above'].apply(len)\n",
    "outliers.sort_values('num_below', inplace=True, ascending=False)\n",
    "outliers.head()"
   ]
  },
  {
   "cell_type": "code",
   "execution_count": 48,
   "metadata": {},
   "outputs": [
    {
     "data": {
      "text/html": [
       "<div>\n",
       "<style scoped>\n",
       "    .dataframe tbody tr th:only-of-type {\n",
       "        vertical-align: middle;\n",
       "    }\n",
       "\n",
       "    .dataframe tbody tr th {\n",
       "        vertical-align: top;\n",
       "    }\n",
       "\n",
       "    .dataframe thead th {\n",
       "        text-align: right;\n",
       "    }\n",
       "</style>\n",
       "<table border=\"1\" class=\"dataframe\">\n",
       "  <thead>\n",
       "    <tr style=\"text-align: right;\">\n",
       "      <th></th>\n",
       "      <th>num_below</th>\n",
       "      <th>num_above</th>\n",
       "    </tr>\n",
       "  </thead>\n",
       "  <tbody>\n",
       "    <tr>\n",
       "      <td>count</td>\n",
       "      <td>906.000000</td>\n",
       "      <td>906.000000</td>\n",
       "    </tr>\n",
       "    <tr>\n",
       "      <td>mean</td>\n",
       "      <td>19.512141</td>\n",
       "      <td>102.984547</td>\n",
       "    </tr>\n",
       "    <tr>\n",
       "      <td>std</td>\n",
       "      <td>40.553578</td>\n",
       "      <td>124.312188</td>\n",
       "    </tr>\n",
       "    <tr>\n",
       "      <td>min</td>\n",
       "      <td>0.000000</td>\n",
       "      <td>0.000000</td>\n",
       "    </tr>\n",
       "    <tr>\n",
       "      <td>25%</td>\n",
       "      <td>0.000000</td>\n",
       "      <td>25.000000</td>\n",
       "    </tr>\n",
       "    <tr>\n",
       "      <td>50%</td>\n",
       "      <td>3.000000</td>\n",
       "      <td>64.000000</td>\n",
       "    </tr>\n",
       "    <tr>\n",
       "      <td>75%</td>\n",
       "      <td>18.000000</td>\n",
       "      <td>134.500000</td>\n",
       "    </tr>\n",
       "    <tr>\n",
       "      <td>max</td>\n",
       "      <td>349.000000</td>\n",
       "      <td>1351.000000</td>\n",
       "    </tr>\n",
       "  </tbody>\n",
       "</table>\n",
       "</div>"
      ],
      "text/plain": [
       "        num_below    num_above\n",
       "count  906.000000   906.000000\n",
       "mean    19.512141   102.984547\n",
       "std     40.553578   124.312188\n",
       "min      0.000000     0.000000\n",
       "25%      0.000000    25.000000\n",
       "50%      3.000000    64.000000\n",
       "75%     18.000000   134.500000\n",
       "max    349.000000  1351.000000"
      ]
     },
     "execution_count": 48,
     "metadata": {},
     "output_type": "execute_result"
    }
   ],
   "source": [
    "outliers.describe()"
   ]
  },
  {
   "cell_type": "code",
   "execution_count": 41,
   "metadata": {},
   "outputs": [
    {
     "data": {
      "text/html": [
       "<div>\n",
       "<style scoped>\n",
       "    .dataframe tbody tr th:only-of-type {\n",
       "        vertical-align: middle;\n",
       "    }\n",
       "\n",
       "    .dataframe tbody tr th {\n",
       "        vertical-align: top;\n",
       "    }\n",
       "\n",
       "    .dataframe thead th {\n",
       "        text-align: right;\n",
       "    }\n",
       "</style>\n",
       "<table border=\"1\" class=\"dataframe\">\n",
       "  <thead>\n",
       "    <tr style=\"text-align: right;\">\n",
       "      <th></th>\n",
       "      <th>num_below</th>\n",
       "      <th>num_above</th>\n",
       "    </tr>\n",
       "  </thead>\n",
       "  <tbody>\n",
       "    <tr>\n",
       "      <td>count</td>\n",
       "      <td>906.000000</td>\n",
       "      <td>906.00000</td>\n",
       "    </tr>\n",
       "    <tr>\n",
       "      <td>mean</td>\n",
       "      <td>19.823400</td>\n",
       "      <td>103.32340</td>\n",
       "    </tr>\n",
       "    <tr>\n",
       "      <td>std</td>\n",
       "      <td>42.461965</td>\n",
       "      <td>125.46409</td>\n",
       "    </tr>\n",
       "    <tr>\n",
       "      <td>min</td>\n",
       "      <td>0.000000</td>\n",
       "      <td>0.00000</td>\n",
       "    </tr>\n",
       "    <tr>\n",
       "      <td>25%</td>\n",
       "      <td>0.000000</td>\n",
       "      <td>25.00000</td>\n",
       "    </tr>\n",
       "    <tr>\n",
       "      <td>50%</td>\n",
       "      <td>3.000000</td>\n",
       "      <td>64.00000</td>\n",
       "    </tr>\n",
       "    <tr>\n",
       "      <td>75%</td>\n",
       "      <td>18.000000</td>\n",
       "      <td>135.00000</td>\n",
       "    </tr>\n",
       "    <tr>\n",
       "      <td>max</td>\n",
       "      <td>378.000000</td>\n",
       "      <td>1351.00000</td>\n",
       "    </tr>\n",
       "  </tbody>\n",
       "</table>\n",
       "</div>"
      ],
      "text/plain": [
       "        num_below   num_above\n",
       "count  906.000000   906.00000\n",
       "mean    19.823400   103.32340\n",
       "std     42.461965   125.46409\n",
       "min      0.000000     0.00000\n",
       "25%      0.000000    25.00000\n",
       "50%      3.000000    64.00000\n",
       "75%     18.000000   135.00000\n",
       "max    378.000000  1351.00000"
      ]
     },
     "execution_count": 41,
     "metadata": {},
     "output_type": "execute_result"
    }
   ],
   "source": [
    "outliers.describe()"
   ]
  },
  {
   "cell_type": "code",
   "execution_count": 49,
   "metadata": {},
   "outputs": [],
   "source": [
    "outliers.to_csv('../data/outliers.csv')"
   ]
  },
  {
   "cell_type": "code",
   "execution_count": 8,
   "metadata": {},
   "outputs": [],
   "source": [
    "from data_transformation import get_peaks_near_nom_masses\n",
    "num_below = []\n",
    "peaks_below = []\n",
    "for row in original_data.itertuples():\n",
    "    peaks, dists = get_peaks_near_nom_masses(row.masses, nom_masses_low, 2000)\n",
    "    dists = np.array(dists)\n",
    "    peaks = np.array(peaks)\n",
    "    num_below.append(len(dists[dists < -0.1]))\n",
    "    peaks_below.append(peaks[dists < -0.1])"
   ]
  },
  {
   "cell_type": "code",
   "execution_count": 9,
   "metadata": {},
   "outputs": [],
   "source": [
    "original_data['num_below'] = num_below\n",
    "original_data['peaks_below'] = peaks_below"
   ]
  },
  {
   "cell_type": "code",
   "execution_count": 10,
   "metadata": {},
   "outputs": [],
   "source": [
    "weird = original_data[['num_below', 'peaks_below', 'file_name']].copy()\n",
    "weird.sort_values('num_below', ascending=False)\n",
    "weird.to_csv('extreme_spectra.csv')"
   ]
  },
  {
   "cell_type": "code",
   "execution_count": 11,
   "metadata": {},
   "outputs": [
    {
     "ename": "IndexError",
     "evalue": "list index out of range",
     "output_type": "error",
     "traceback": [
      "\u001b[0;31m---------------------------------------------------------------------------\u001b[0m",
      "\u001b[0;31mIndexError\u001b[0m                                Traceback (most recent call last)",
      "\u001b[0;32m<ipython-input-11-46a206735c20>\u001b[0m in \u001b[0;36m<module>\u001b[0;34m\u001b[0m\n\u001b[1;32m     33\u001b[0m     \u001b[0mavgs_both\u001b[0m\u001b[0;34m.\u001b[0m\u001b[0mappend\u001b[0m\u001b[0;34m(\u001b[0m\u001b[0mavgs\u001b[0m\u001b[0;34m)\u001b[0m\u001b[0;34m\u001b[0m\u001b[0;34m\u001b[0m\u001b[0m\n\u001b[1;32m     34\u001b[0m     \u001b[0mp\u001b[0m \u001b[0;34m=\u001b[0m \u001b[0mpd\u001b[0m\u001b[0;34m.\u001b[0m\u001b[0mSeries\u001b[0m\u001b[0;34m(\u001b[0m\u001b[0mnp\u001b[0m\u001b[0;34m.\u001b[0m\u001b[0marray\u001b[0m\u001b[0;34m(\u001b[0m\u001b[0mmasses\u001b[0m\u001b[0;34m,\u001b[0m \u001b[0mdtype\u001b[0m\u001b[0;34m=\u001b[0m\u001b[0mobject\u001b[0m\u001b[0;34m)\u001b[0m\u001b[0;34m[\u001b[0m\u001b[0mnp\u001b[0m\u001b[0;34m.\u001b[0m\u001b[0marray\u001b[0m\u001b[0;34m(\u001b[0m\u001b[0moff_err\u001b[0m\u001b[0;34m)\u001b[0m \u001b[0;34m<\u001b[0m \u001b[0;36m0\u001b[0m\u001b[0;34m]\u001b[0m\u001b[0;34m)\u001b[0m\u001b[0;34m.\u001b[0m\u001b[0mapply\u001b[0m\u001b[0;34m(\u001b[0m\u001b[0maugment_values\u001b[0m\u001b[0;34m,\u001b[0m \u001b[0margs\u001b[0m\u001b[0;34m=\u001b[0m\u001b[0;34m(\u001b[0m\u001b[0;36m0.1\u001b[0m\u001b[0;34m,\u001b[0m \u001b[0;36m1\u001b[0m\u001b[0;34m,\u001b[0m\u001b[0;34m)\u001b[0m\u001b[0;34m)\u001b[0m\u001b[0;34m\u001b[0m\u001b[0;34m\u001b[0m\u001b[0m\n\u001b[0;32m---> 35\u001b[0;31m     \u001b[0madd_avgs_both\u001b[0m\u001b[0;34m.\u001b[0m\u001b[0mappend\u001b[0m\u001b[0;34m(\u001b[0m\u001b[0mp\u001b[0m\u001b[0;34m.\u001b[0m\u001b[0mapply\u001b[0m\u001b[0;34m(\u001b[0m\u001b[0mget_avg\u001b[0m\u001b[0;34m,\u001b[0m \u001b[0margs\u001b[0m\u001b[0;34m=\u001b[0m\u001b[0;34m(\u001b[0m\u001b[0mnom_masses_low\u001b[0m\u001b[0;34m,\u001b[0m\u001b[0;34m)\u001b[0m\u001b[0;34m)\u001b[0m\u001b[0;34m)\u001b[0m\u001b[0;34m\u001b[0m\u001b[0;34m\u001b[0m\u001b[0m\n\u001b[0m",
      "\u001b[0;32m~/opt/anaconda3/lib/python3.7/site-packages/pandas/core/series.py\u001b[0m in \u001b[0;36mapply\u001b[0;34m(self, func, convert_dtype, args, **kwds)\u001b[0m\n\u001b[1;32m   4040\u001b[0m             \u001b[0;32melse\u001b[0m\u001b[0;34m:\u001b[0m\u001b[0;34m\u001b[0m\u001b[0;34m\u001b[0m\u001b[0m\n\u001b[1;32m   4041\u001b[0m                 \u001b[0mvalues\u001b[0m \u001b[0;34m=\u001b[0m \u001b[0mself\u001b[0m\u001b[0;34m.\u001b[0m\u001b[0mastype\u001b[0m\u001b[0;34m(\u001b[0m\u001b[0mobject\u001b[0m\u001b[0;34m)\u001b[0m\u001b[0;34m.\u001b[0m\u001b[0mvalues\u001b[0m\u001b[0;34m\u001b[0m\u001b[0;34m\u001b[0m\u001b[0m\n\u001b[0;32m-> 4042\u001b[0;31m                 \u001b[0mmapped\u001b[0m \u001b[0;34m=\u001b[0m \u001b[0mlib\u001b[0m\u001b[0;34m.\u001b[0m\u001b[0mmap_infer\u001b[0m\u001b[0;34m(\u001b[0m\u001b[0mvalues\u001b[0m\u001b[0;34m,\u001b[0m \u001b[0mf\u001b[0m\u001b[0;34m,\u001b[0m \u001b[0mconvert\u001b[0m\u001b[0;34m=\u001b[0m\u001b[0mconvert_dtype\u001b[0m\u001b[0;34m)\u001b[0m\u001b[0;34m\u001b[0m\u001b[0;34m\u001b[0m\u001b[0m\n\u001b[0m\u001b[1;32m   4043\u001b[0m \u001b[0;34m\u001b[0m\u001b[0m\n\u001b[1;32m   4044\u001b[0m         \u001b[0;32mif\u001b[0m \u001b[0mlen\u001b[0m\u001b[0;34m(\u001b[0m\u001b[0mmapped\u001b[0m\u001b[0;34m)\u001b[0m \u001b[0;32mand\u001b[0m \u001b[0misinstance\u001b[0m\u001b[0;34m(\u001b[0m\u001b[0mmapped\u001b[0m\u001b[0;34m[\u001b[0m\u001b[0;36m0\u001b[0m\u001b[0;34m]\u001b[0m\u001b[0;34m,\u001b[0m \u001b[0mSeries\u001b[0m\u001b[0;34m)\u001b[0m\u001b[0;34m:\u001b[0m\u001b[0;34m\u001b[0m\u001b[0;34m\u001b[0m\u001b[0m\n",
      "\u001b[0;32mpandas/_libs/lib.pyx\u001b[0m in \u001b[0;36mpandas._libs.lib.map_infer\u001b[0;34m()\u001b[0m\n",
      "\u001b[0;32m~/opt/anaconda3/lib/python3.7/site-packages/pandas/core/series.py\u001b[0m in \u001b[0;36mf\u001b[0;34m(x)\u001b[0m\n\u001b[1;32m   4026\u001b[0m \u001b[0;34m\u001b[0m\u001b[0m\n\u001b[1;32m   4027\u001b[0m             \u001b[0;32mdef\u001b[0m \u001b[0mf\u001b[0m\u001b[0;34m(\u001b[0m\u001b[0mx\u001b[0m\u001b[0;34m)\u001b[0m\u001b[0;34m:\u001b[0m\u001b[0;34m\u001b[0m\u001b[0;34m\u001b[0m\u001b[0m\n\u001b[0;32m-> 4028\u001b[0;31m                 \u001b[0;32mreturn\u001b[0m \u001b[0mfunc\u001b[0m\u001b[0;34m(\u001b[0m\u001b[0mx\u001b[0m\u001b[0;34m,\u001b[0m \u001b[0;34m*\u001b[0m\u001b[0margs\u001b[0m\u001b[0;34m,\u001b[0m \u001b[0;34m**\u001b[0m\u001b[0mkwds\u001b[0m\u001b[0;34m)\u001b[0m\u001b[0;34m\u001b[0m\u001b[0;34m\u001b[0m\u001b[0m\n\u001b[0m\u001b[1;32m   4029\u001b[0m \u001b[0;34m\u001b[0m\u001b[0m\n\u001b[1;32m   4030\u001b[0m         \u001b[0;32melse\u001b[0m\u001b[0;34m:\u001b[0m\u001b[0;34m\u001b[0m\u001b[0;34m\u001b[0m\u001b[0m\n",
      "\u001b[0;32m<ipython-input-11-46a206735c20>\u001b[0m in \u001b[0;36mget_avg\u001b[0;34m(masses, nom_mass)\u001b[0m\n\u001b[1;32m      9\u001b[0m     \u001b[0mavgs\u001b[0m \u001b[0;34m=\u001b[0m \u001b[0;36m0\u001b[0m\u001b[0;34m\u001b[0m\u001b[0;34m\u001b[0m\u001b[0m\n\u001b[1;32m     10\u001b[0m     \u001b[0;32mfor\u001b[0m \u001b[0mmass\u001b[0m \u001b[0;32min\u001b[0m \u001b[0mmasses\u001b[0m\u001b[0;34m:\u001b[0m\u001b[0;34m\u001b[0m\u001b[0;34m\u001b[0m\u001b[0m\n\u001b[0;32m---> 11\u001b[0;31m         \u001b[0mavgs\u001b[0m \u001b[0;34m+=\u001b[0m \u001b[0mget_dist_nom_mass\u001b[0m\u001b[0;34m(\u001b[0m\u001b[0mmass\u001b[0m\u001b[0;34m,\u001b[0m \u001b[0mnom_mass\u001b[0m\u001b[0;34m)\u001b[0m\u001b[0;34m\u001b[0m\u001b[0;34m\u001b[0m\u001b[0m\n\u001b[0m\u001b[1;32m     12\u001b[0m     \u001b[0;32mreturn\u001b[0m \u001b[0mavgs\u001b[0m \u001b[0;34m/\u001b[0m \u001b[0mlen\u001b[0m\u001b[0;34m(\u001b[0m\u001b[0mmasses\u001b[0m\u001b[0;34m)\u001b[0m\u001b[0;34m\u001b[0m\u001b[0;34m\u001b[0m\u001b[0m\n\u001b[1;32m     13\u001b[0m \u001b[0;34m\u001b[0m\u001b[0m\n",
      "\u001b[0;32m~/Desktop/Phi/TOF_ML/src/data_transformation.py\u001b[0m in \u001b[0;36mget_dist_nom_mass\u001b[0;34m(peak, nom_masses)\u001b[0m\n\u001b[1;32m    303\u001b[0m     \u001b[0mReturn\u001b[0m \u001b[0mdistance\u001b[0m \u001b[0;32mfrom\u001b[0m \u001b[0mclosest\u001b[0m \u001b[0mlowest\u001b[0m \u001b[0misotope\u001b[0m \u001b[0mmass\u001b[0m\u001b[0;34m.\u001b[0m\u001b[0;34m\u001b[0m\u001b[0;34m\u001b[0m\u001b[0m\n\u001b[1;32m    304\u001b[0m     '''\n\u001b[0;32m--> 305\u001b[0;31m     \u001b[0;32mreturn\u001b[0m \u001b[0mpeak\u001b[0m \u001b[0;34m-\u001b[0m \u001b[0mnom_masses\u001b[0m\u001b[0;34m[\u001b[0m\u001b[0mround\u001b[0m\u001b[0;34m(\u001b[0m\u001b[0mpeak\u001b[0m\u001b[0;34m)\u001b[0m\u001b[0;34m]\u001b[0m\u001b[0;34m\u001b[0m\u001b[0;34m\u001b[0m\u001b[0m\n\u001b[0m\u001b[1;32m    306\u001b[0m \u001b[0;34m\u001b[0m\u001b[0m\n\u001b[1;32m    307\u001b[0m \u001b[0;34m\u001b[0m\u001b[0m\n",
      "\u001b[0;31mIndexError\u001b[0m: list index out of range"
     ]
    }
   ],
   "source": [
    "from data_transformation import get_error_masses, get_dist_nom_mass, augment_value\n",
    "def augment_values(values, amount, sign):\n",
    "    vals = []\n",
    "    for val in values:\n",
    "        vals.append(augment_value(val, amount, sign))\n",
    "    return vals\n",
    "\n",
    "def get_avg(masses, nom_mass):\n",
    "    avgs = 0\n",
    "    for mass in masses:\n",
    "        avgs += get_dist_nom_mass(mass, nom_mass)\n",
    "    return avgs / len(masses)\n",
    "\n",
    "avgs_slope = []\n",
    "add_avgs_slope = []\n",
    "sub_avgs_slope = []\n",
    "avgs_offset = []\n",
    "add_avgs_offset = []\n",
    "sub_avgs_offset = []\n",
    "avgs_both = []\n",
    "add_avgs_both = []\n",
    "sub_avgs_both = []\n",
    "for num in range(50):\n",
    "    masses, avgs, sl_err, off_err = get_error_masses(norm_data, False, get_dist_nom_mass, args=(nom_masses_low,), add_to='slope')\n",
    "    avgs_slope.append(avgs)\n",
    "    p = pd.Series(np.array(masses, dtype=object)[np.array(sl_err) < 0]).apply(augment_values, args=(0.1, 1,))\n",
    "    add_avgs_slope.append(p.apply(get_avg, args=(nom_masses_low,)))\n",
    "    masses, avgs, sl_err, off_err = get_error_masses(norm_data, False, get_dist_nom_mass, args=(nom_masses_low,), add_to='offset')\n",
    "    avgs_offset.append(avgs)\n",
    "    p = pd.Series(np.array(masses, dtype=object)[np.array(off_err) < 0]).apply(augment_values, args=(0.1, 1,))\n",
    "    add_avgs_offset.append(p.apply(get_avg, args=(nom_masses_low,)))\n",
    "    masses, avgs, sl_err, off_err = get_error_masses(norm_data, False, get_dist_nom_mass, args=(nom_masses_low,), add_to='both')\n",
    "    avgs_both.append(avgs)\n",
    "    p = pd.Series(np.array(masses, dtype=object)[np.array(off_err) < 0]).apply(augment_values, args=(0.1, 1,))\n",
    "    add_avgs_both.append(p.apply(get_avg, args=(nom_masses_low,)))"
   ]
  },
  {
   "cell_type": "code",
   "execution_count": null,
   "metadata": {},
   "outputs": [],
   "source": []
  },
  {
   "cell_type": "code",
   "execution_count": null,
   "metadata": {},
   "outputs": [],
   "source": [
    "default = original_data['masses'].apply(get_avg, args=(nom_masses_low,))"
   ]
  },
  {
   "cell_type": "code",
   "execution_count": null,
   "metadata": {},
   "outputs": [],
   "source": [
    "plt.figure(figsize=(20, 10))\n",
    "plt.hist(default, bins=50, alpha=0.5, label='no error')\n",
    "plt.vlines(np.mean(default), 0, 60)\n",
    "plt.hist(avgs_slope[0], bins=50, alpha=0.5, label='slope err')\n",
    "plt.vlines(np.mean(avgs_slope[0]), 0, 60)\n",
    "plt.legend()\n",
    "plt.show()"
   ]
  },
  {
   "cell_type": "code",
   "execution_count": null,
   "metadata": {},
   "outputs": [],
   "source": [
    "plt.figure(figsize=(20, 10))\n",
    "plt.hist(default, bins=50, alpha=0.5, label='no error')\n",
    "plt.vlines(np.mean(default), 0, 60)\n",
    "plt.hist(avgs_offset[0], bins=50, alpha=0.5, label='offset err')\n",
    "plt.vlines(np.mean(avgs_offset[0]), 0, 60)\n",
    "plt.legend()\n",
    "plt.show()"
   ]
  },
  {
   "cell_type": "code",
   "execution_count": null,
   "metadata": {},
   "outputs": [],
   "source": [
    "plt.figure(figsize=(20, 10))\n",
    "plt.hist(default, bins=50, alpha=0.5, label='no error')\n",
    "plt.vlines(np.mean(default), 0, 60)\n",
    "plt.hist(avgs_both[0], bins=50, alpha=0.5, label='err both')\n",
    "plt.vlines(np.mean(avgs_both[0]), 0, 60)\n",
    "plt.legend()\n",
    "plt.show()"
   ]
  },
  {
   "cell_type": "code",
   "execution_count": null,
   "metadata": {},
   "outputs": [],
   "source": []
  },
  {
   "cell_type": "code",
   "execution_count": null,
   "metadata": {},
   "outputs": [],
   "source": []
  }
 ],
 "metadata": {
  "kernelspec": {
   "display_name": "Python 3",
   "language": "python",
   "name": "python3"
  },
  "language_info": {
   "codemirror_mode": {
    "name": "ipython",
    "version": 3
   },
   "file_extension": ".py",
   "mimetype": "text/x-python",
   "name": "python",
   "nbconvert_exporter": "python",
   "pygments_lexer": "ipython3",
   "version": "3.7.4"
  }
 },
 "nbformat": 4,
 "nbformat_minor": 2
}
